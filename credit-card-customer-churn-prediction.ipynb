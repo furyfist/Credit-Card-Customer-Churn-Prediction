{
 "cells": [
  {
   "cell_type": "code",
   "execution_count": 1,
   "id": "b4eddf32",
   "metadata": {
    "_cell_guid": "b1076dfc-b9ad-4769-8c92-a6c4dae69d19",
    "_uuid": "8f2839f25d086af736a60e9eeb907d3b93b6e0e5",
    "execution": {
     "iopub.execute_input": "2025-07-04T06:21:14.194742Z",
     "iopub.status.busy": "2025-07-04T06:21:14.194428Z",
     "iopub.status.idle": "2025-07-04T06:21:16.086144Z",
     "shell.execute_reply": "2025-07-04T06:21:16.085085Z"
    },
    "papermill": {
     "duration": 1.901061,
     "end_time": "2025-07-04T06:21:16.087728",
     "exception": false,
     "start_time": "2025-07-04T06:21:14.186667",
     "status": "completed"
    },
    "tags": []
   },
   "outputs": [
    {
     "name": "stdout",
     "output_type": "stream",
     "text": [
      "/kaggle/input/credit-card-customer-churn-prediction/Churn_Modelling.csv\n"
     ]
    }
   ],
   "source": [
    "# This Python 3 environment comes with many helpful analytics libraries installed\n",
    "# It is defined by the kaggle/python Docker image: https://github.com/kaggle/docker-python\n",
    "# For example, here's several helpful packages to load\n",
    "\n",
    "import numpy as np # linear algebra\n",
    "import pandas as pd # data processing, CSV file I/O (e.g. pd.read_csv)\n",
    "\n",
    "# Input data files are available in the read-only \"../input/\" directory\n",
    "# For example, running this (by clicking run or pressing Shift+Enter) will list all files under the input directory\n",
    "\n",
    "import os\n",
    "for dirname, _, filenames in os.walk('/kaggle/input'):\n",
    "    for filename in filenames:\n",
    "        print(os.path.join(dirname, filename))\n",
    "\n",
    "# You can write up to 20GB to the current directory (/kaggle/working/) that gets preserved as output when you create a version using \"Save & Run All\" \n",
    "# You can also write temporary files to /kaggle/temp/, but they won't be saved outside of the current session"
   ]
  },
  {
   "cell_type": "markdown",
   "id": "9eac3128",
   "metadata": {
    "papermill": {
     "duration": 0.005417,
     "end_time": "2025-07-04T06:21:16.099583",
     "exception": false,
     "start_time": "2025-07-04T06:21:16.094166",
     "status": "completed"
    },
    "tags": []
   },
   "source": [
    "**Hiiiiiiiiiiiiiii, going to get intution about the BackPropagation through this Project**"
   ]
  },
  {
   "cell_type": "code",
   "execution_count": 2,
   "id": "34bf0cef",
   "metadata": {
    "execution": {
     "iopub.execute_input": "2025-07-04T06:21:16.111893Z",
     "iopub.status.busy": "2025-07-04T06:21:16.111497Z",
     "iopub.status.idle": "2025-07-04T06:21:16.157573Z",
     "shell.execute_reply": "2025-07-04T06:21:16.156551Z"
    },
    "papermill": {
     "duration": 0.054162,
     "end_time": "2025-07-04T06:21:16.159334",
     "exception": false,
     "start_time": "2025-07-04T06:21:16.105172",
     "status": "completed"
    },
    "tags": []
   },
   "outputs": [],
   "source": [
    "df= pd.read_csv(\"/kaggle/input/credit-card-customer-churn-prediction/Churn_Modelling.csv\")"
   ]
  },
  {
   "cell_type": "code",
   "execution_count": 3,
   "id": "1467fb5f",
   "metadata": {
    "execution": {
     "iopub.execute_input": "2025-07-04T06:21:16.172734Z",
     "iopub.status.busy": "2025-07-04T06:21:16.172061Z",
     "iopub.status.idle": "2025-07-04T06:21:16.207355Z",
     "shell.execute_reply": "2025-07-04T06:21:16.206567Z"
    },
    "papermill": {
     "duration": 0.043664,
     "end_time": "2025-07-04T06:21:16.208985",
     "exception": false,
     "start_time": "2025-07-04T06:21:16.165321",
     "status": "completed"
    },
    "tags": []
   },
   "outputs": [
    {
     "data": {
      "text/html": [
       "<div>\n",
       "<style scoped>\n",
       "    .dataframe tbody tr th:only-of-type {\n",
       "        vertical-align: middle;\n",
       "    }\n",
       "\n",
       "    .dataframe tbody tr th {\n",
       "        vertical-align: top;\n",
       "    }\n",
       "\n",
       "    .dataframe thead th {\n",
       "        text-align: right;\n",
       "    }\n",
       "</style>\n",
       "<table border=\"1\" class=\"dataframe\">\n",
       "  <thead>\n",
       "    <tr style=\"text-align: right;\">\n",
       "      <th></th>\n",
       "      <th>RowNumber</th>\n",
       "      <th>CustomerId</th>\n",
       "      <th>Surname</th>\n",
       "      <th>CreditScore</th>\n",
       "      <th>Geography</th>\n",
       "      <th>Gender</th>\n",
       "      <th>Age</th>\n",
       "      <th>Tenure</th>\n",
       "      <th>Balance</th>\n",
       "      <th>NumOfProducts</th>\n",
       "      <th>HasCrCard</th>\n",
       "      <th>IsActiveMember</th>\n",
       "      <th>EstimatedSalary</th>\n",
       "      <th>Exited</th>\n",
       "    </tr>\n",
       "  </thead>\n",
       "  <tbody>\n",
       "    <tr>\n",
       "      <th>8402</th>\n",
       "      <td>8403</td>\n",
       "      <td>15766683</td>\n",
       "      <td>Coombes</td>\n",
       "      <td>549</td>\n",
       "      <td>Germany</td>\n",
       "      <td>Male</td>\n",
       "      <td>36</td>\n",
       "      <td>6</td>\n",
       "      <td>139422.37</td>\n",
       "      <td>1</td>\n",
       "      <td>0</td>\n",
       "      <td>0</td>\n",
       "      <td>83983.39</td>\n",
       "      <td>1</td>\n",
       "    </tr>\n",
       "    <tr>\n",
       "      <th>3314</th>\n",
       "      <td>3315</td>\n",
       "      <td>15628767</td>\n",
       "      <td>Hotchin</td>\n",
       "      <td>608</td>\n",
       "      <td>Spain</td>\n",
       "      <td>Female</td>\n",
       "      <td>63</td>\n",
       "      <td>3</td>\n",
       "      <td>139529.93</td>\n",
       "      <td>2</td>\n",
       "      <td>1</td>\n",
       "      <td>1</td>\n",
       "      <td>175696.16</td>\n",
       "      <td>1</td>\n",
       "    </tr>\n",
       "    <tr>\n",
       "      <th>5027</th>\n",
       "      <td>5028</td>\n",
       "      <td>15807989</td>\n",
       "      <td>Wall</td>\n",
       "      <td>681</td>\n",
       "      <td>Germany</td>\n",
       "      <td>Male</td>\n",
       "      <td>37</td>\n",
       "      <td>8</td>\n",
       "      <td>73179.34</td>\n",
       "      <td>2</td>\n",
       "      <td>1</td>\n",
       "      <td>1</td>\n",
       "      <td>25292.53</td>\n",
       "      <td>0</td>\n",
       "    </tr>\n",
       "    <tr>\n",
       "      <th>6956</th>\n",
       "      <td>6957</td>\n",
       "      <td>15696605</td>\n",
       "      <td>Angelo</td>\n",
       "      <td>571</td>\n",
       "      <td>France</td>\n",
       "      <td>Male</td>\n",
       "      <td>49</td>\n",
       "      <td>4</td>\n",
       "      <td>180614.04</td>\n",
       "      <td>1</td>\n",
       "      <td>0</td>\n",
       "      <td>0</td>\n",
       "      <td>523.00</td>\n",
       "      <td>0</td>\n",
       "    </tr>\n",
       "    <tr>\n",
       "      <th>9592</th>\n",
       "      <td>9593</td>\n",
       "      <td>15766066</td>\n",
       "      <td>Nikitina</td>\n",
       "      <td>668</td>\n",
       "      <td>Germany</td>\n",
       "      <td>Female</td>\n",
       "      <td>28</td>\n",
       "      <td>1</td>\n",
       "      <td>124511.01</td>\n",
       "      <td>1</td>\n",
       "      <td>0</td>\n",
       "      <td>0</td>\n",
       "      <td>114258.18</td>\n",
       "      <td>0</td>\n",
       "    </tr>\n",
       "    <tr>\n",
       "      <th>8254</th>\n",
       "      <td>8255</td>\n",
       "      <td>15664311</td>\n",
       "      <td>Yang</td>\n",
       "      <td>637</td>\n",
       "      <td>Germany</td>\n",
       "      <td>Male</td>\n",
       "      <td>28</td>\n",
       "      <td>3</td>\n",
       "      <td>123675.69</td>\n",
       "      <td>1</td>\n",
       "      <td>1</td>\n",
       "      <td>1</td>\n",
       "      <td>166458.41</td>\n",
       "      <td>0</td>\n",
       "    </tr>\n",
       "    <tr>\n",
       "      <th>2607</th>\n",
       "      <td>2608</td>\n",
       "      <td>15814209</td>\n",
       "      <td>Capon</td>\n",
       "      <td>814</td>\n",
       "      <td>France</td>\n",
       "      <td>Male</td>\n",
       "      <td>31</td>\n",
       "      <td>1</td>\n",
       "      <td>118870.92</td>\n",
       "      <td>1</td>\n",
       "      <td>1</td>\n",
       "      <td>0</td>\n",
       "      <td>101704.19</td>\n",
       "      <td>0</td>\n",
       "    </tr>\n",
       "    <tr>\n",
       "      <th>616</th>\n",
       "      <td>617</td>\n",
       "      <td>15719352</td>\n",
       "      <td>Davidson</td>\n",
       "      <td>754</td>\n",
       "      <td>Spain</td>\n",
       "      <td>Male</td>\n",
       "      <td>39</td>\n",
       "      <td>6</td>\n",
       "      <td>170184.99</td>\n",
       "      <td>2</td>\n",
       "      <td>1</td>\n",
       "      <td>0</td>\n",
       "      <td>89593.26</td>\n",
       "      <td>0</td>\n",
       "    </tr>\n",
       "    <tr>\n",
       "      <th>8984</th>\n",
       "      <td>8985</td>\n",
       "      <td>15726289</td>\n",
       "      <td>Cawood</td>\n",
       "      <td>645</td>\n",
       "      <td>France</td>\n",
       "      <td>Male</td>\n",
       "      <td>25</td>\n",
       "      <td>0</td>\n",
       "      <td>174400.36</td>\n",
       "      <td>1</td>\n",
       "      <td>1</td>\n",
       "      <td>0</td>\n",
       "      <td>42669.37</td>\n",
       "      <td>0</td>\n",
       "    </tr>\n",
       "    <tr>\n",
       "      <th>3889</th>\n",
       "      <td>3890</td>\n",
       "      <td>15756150</td>\n",
       "      <td>Alexander</td>\n",
       "      <td>418</td>\n",
       "      <td>France</td>\n",
       "      <td>Female</td>\n",
       "      <td>39</td>\n",
       "      <td>2</td>\n",
       "      <td>0.00</td>\n",
       "      <td>2</td>\n",
       "      <td>0</td>\n",
       "      <td>0</td>\n",
       "      <td>9041.71</td>\n",
       "      <td>0</td>\n",
       "    </tr>\n",
       "  </tbody>\n",
       "</table>\n",
       "</div>"
      ],
      "text/plain": [
       "      RowNumber  CustomerId    Surname  CreditScore Geography  Gender  Age  \\\n",
       "8402       8403    15766683    Coombes          549   Germany    Male   36   \n",
       "3314       3315    15628767    Hotchin          608     Spain  Female   63   \n",
       "5027       5028    15807989       Wall          681   Germany    Male   37   \n",
       "6956       6957    15696605     Angelo          571    France    Male   49   \n",
       "9592       9593    15766066   Nikitina          668   Germany  Female   28   \n",
       "8254       8255    15664311       Yang          637   Germany    Male   28   \n",
       "2607       2608    15814209      Capon          814    France    Male   31   \n",
       "616         617    15719352   Davidson          754     Spain    Male   39   \n",
       "8984       8985    15726289     Cawood          645    France    Male   25   \n",
       "3889       3890    15756150  Alexander          418    France  Female   39   \n",
       "\n",
       "      Tenure    Balance  NumOfProducts  HasCrCard  IsActiveMember  \\\n",
       "8402       6  139422.37              1          0               0   \n",
       "3314       3  139529.93              2          1               1   \n",
       "5027       8   73179.34              2          1               1   \n",
       "6956       4  180614.04              1          0               0   \n",
       "9592       1  124511.01              1          0               0   \n",
       "8254       3  123675.69              1          1               1   \n",
       "2607       1  118870.92              1          1               0   \n",
       "616        6  170184.99              2          1               0   \n",
       "8984       0  174400.36              1          1               0   \n",
       "3889       2       0.00              2          0               0   \n",
       "\n",
       "      EstimatedSalary  Exited  \n",
       "8402         83983.39       1  \n",
       "3314        175696.16       1  \n",
       "5027         25292.53       0  \n",
       "6956           523.00       0  \n",
       "9592        114258.18       0  \n",
       "8254        166458.41       0  \n",
       "2607        101704.19       0  \n",
       "616          89593.26       0  \n",
       "8984         42669.37       0  \n",
       "3889          9041.71       0  "
      ]
     },
     "execution_count": 3,
     "metadata": {},
     "output_type": "execute_result"
    }
   ],
   "source": [
    "df.sample(10)"
   ]
  },
  {
   "cell_type": "code",
   "execution_count": 4,
   "id": "1e146516",
   "metadata": {
    "execution": {
     "iopub.execute_input": "2025-07-04T06:21:16.222809Z",
     "iopub.status.busy": "2025-07-04T06:21:16.222021Z",
     "iopub.status.idle": "2025-07-04T06:21:16.245046Z",
     "shell.execute_reply": "2025-07-04T06:21:16.243991Z"
    },
    "papermill": {
     "duration": 0.031596,
     "end_time": "2025-07-04T06:21:16.246816",
     "exception": false,
     "start_time": "2025-07-04T06:21:16.215220",
     "status": "completed"
    },
    "tags": []
   },
   "outputs": [
    {
     "name": "stdout",
     "output_type": "stream",
     "text": [
      "<class 'pandas.core.frame.DataFrame'>\n",
      "RangeIndex: 10000 entries, 0 to 9999\n",
      "Data columns (total 14 columns):\n",
      " #   Column           Non-Null Count  Dtype  \n",
      "---  ------           --------------  -----  \n",
      " 0   RowNumber        10000 non-null  int64  \n",
      " 1   CustomerId       10000 non-null  int64  \n",
      " 2   Surname          10000 non-null  object \n",
      " 3   CreditScore      10000 non-null  int64  \n",
      " 4   Geography        10000 non-null  object \n",
      " 5   Gender           10000 non-null  object \n",
      " 6   Age              10000 non-null  int64  \n",
      " 7   Tenure           10000 non-null  int64  \n",
      " 8   Balance          10000 non-null  float64\n",
      " 9   NumOfProducts    10000 non-null  int64  \n",
      " 10  HasCrCard        10000 non-null  int64  \n",
      " 11  IsActiveMember   10000 non-null  int64  \n",
      " 12  EstimatedSalary  10000 non-null  float64\n",
      " 13  Exited           10000 non-null  int64  \n",
      "dtypes: float64(2), int64(9), object(3)\n",
      "memory usage: 1.1+ MB\n"
     ]
    }
   ],
   "source": [
    "df.info() # ok, no null values, nice"
   ]
  },
  {
   "cell_type": "code",
   "execution_count": 5,
   "id": "a142d3db",
   "metadata": {
    "execution": {
     "iopub.execute_input": "2025-07-04T06:21:16.260586Z",
     "iopub.status.busy": "2025-07-04T06:21:16.259832Z",
     "iopub.status.idle": "2025-07-04T06:21:16.267646Z",
     "shell.execute_reply": "2025-07-04T06:21:16.266802Z"
    },
    "papermill": {
     "duration": 0.016174,
     "end_time": "2025-07-04T06:21:16.269158",
     "exception": false,
     "start_time": "2025-07-04T06:21:16.252984",
     "status": "completed"
    },
    "tags": []
   },
   "outputs": [
    {
     "data": {
      "text/plain": [
       "Geography\n",
       "France     5014\n",
       "Germany    2509\n",
       "Spain      2477\n",
       "Name: count, dtype: int64"
      ]
     },
     "execution_count": 5,
     "metadata": {},
     "output_type": "execute_result"
    }
   ],
   "source": [
    "df['Geography'].value_counts() # hmm only 3 countries"
   ]
  },
  {
   "cell_type": "code",
   "execution_count": 6,
   "id": "d7687754",
   "metadata": {
    "execution": {
     "iopub.execute_input": "2025-07-04T06:21:16.284051Z",
     "iopub.status.busy": "2025-07-04T06:21:16.283423Z",
     "iopub.status.idle": "2025-07-04T06:21:16.291361Z",
     "shell.execute_reply": "2025-07-04T06:21:16.290542Z"
    },
    "papermill": {
     "duration": 0.01666,
     "end_time": "2025-07-04T06:21:16.292866",
     "exception": false,
     "start_time": "2025-07-04T06:21:16.276206",
     "status": "completed"
    },
    "tags": []
   },
   "outputs": [
    {
     "data": {
      "text/plain": [
       "Exited\n",
       "0    7963\n",
       "1    2037\n",
       "Name: count, dtype: int64"
      ]
     },
     "execution_count": 6,
     "metadata": {},
     "output_type": "execute_result"
    }
   ],
   "source": [
    "df['Exited'].value_counts() # not a greate sign, data"
   ]
  },
  {
   "cell_type": "code",
   "execution_count": 7,
   "id": "766c3438",
   "metadata": {
    "execution": {
     "iopub.execute_input": "2025-07-04T06:21:16.306391Z",
     "iopub.status.busy": "2025-07-04T06:21:16.306072Z",
     "iopub.status.idle": "2025-07-04T06:21:16.313075Z",
     "shell.execute_reply": "2025-07-04T06:21:16.312153Z"
    },
    "papermill": {
     "duration": 0.015271,
     "end_time": "2025-07-04T06:21:16.314466",
     "exception": false,
     "start_time": "2025-07-04T06:21:16.299195",
     "status": "completed"
    },
    "tags": []
   },
   "outputs": [],
   "source": [
    "# dropping columns which are of no use in this analysis\n",
    "df.drop(['RowNumber', 'CustomerId', 'Surname'], axis=1,inplace=True)\n"
   ]
  },
  {
   "cell_type": "code",
   "execution_count": 8,
   "id": "c268fd67",
   "metadata": {
    "execution": {
     "iopub.execute_input": "2025-07-04T06:21:16.329181Z",
     "iopub.status.busy": "2025-07-04T06:21:16.328405Z",
     "iopub.status.idle": "2025-07-04T06:21:16.340639Z",
     "shell.execute_reply": "2025-07-04T06:21:16.339781Z"
    },
    "papermill": {
     "duration": 0.021149,
     "end_time": "2025-07-04T06:21:16.342028",
     "exception": false,
     "start_time": "2025-07-04T06:21:16.320879",
     "status": "completed"
    },
    "tags": []
   },
   "outputs": [
    {
     "data": {
      "text/html": [
       "<div>\n",
       "<style scoped>\n",
       "    .dataframe tbody tr th:only-of-type {\n",
       "        vertical-align: middle;\n",
       "    }\n",
       "\n",
       "    .dataframe tbody tr th {\n",
       "        vertical-align: top;\n",
       "    }\n",
       "\n",
       "    .dataframe thead th {\n",
       "        text-align: right;\n",
       "    }\n",
       "</style>\n",
       "<table border=\"1\" class=\"dataframe\">\n",
       "  <thead>\n",
       "    <tr style=\"text-align: right;\">\n",
       "      <th></th>\n",
       "      <th>CreditScore</th>\n",
       "      <th>Geography</th>\n",
       "      <th>Gender</th>\n",
       "      <th>Age</th>\n",
       "      <th>Tenure</th>\n",
       "      <th>Balance</th>\n",
       "      <th>NumOfProducts</th>\n",
       "      <th>HasCrCard</th>\n",
       "      <th>IsActiveMember</th>\n",
       "      <th>EstimatedSalary</th>\n",
       "      <th>Exited</th>\n",
       "    </tr>\n",
       "  </thead>\n",
       "  <tbody>\n",
       "    <tr>\n",
       "      <th>0</th>\n",
       "      <td>619</td>\n",
       "      <td>France</td>\n",
       "      <td>Female</td>\n",
       "      <td>42</td>\n",
       "      <td>2</td>\n",
       "      <td>0.00</td>\n",
       "      <td>1</td>\n",
       "      <td>1</td>\n",
       "      <td>1</td>\n",
       "      <td>101348.88</td>\n",
       "      <td>1</td>\n",
       "    </tr>\n",
       "    <tr>\n",
       "      <th>1</th>\n",
       "      <td>608</td>\n",
       "      <td>Spain</td>\n",
       "      <td>Female</td>\n",
       "      <td>41</td>\n",
       "      <td>1</td>\n",
       "      <td>83807.86</td>\n",
       "      <td>1</td>\n",
       "      <td>0</td>\n",
       "      <td>1</td>\n",
       "      <td>112542.58</td>\n",
       "      <td>0</td>\n",
       "    </tr>\n",
       "    <tr>\n",
       "      <th>2</th>\n",
       "      <td>502</td>\n",
       "      <td>France</td>\n",
       "      <td>Female</td>\n",
       "      <td>42</td>\n",
       "      <td>8</td>\n",
       "      <td>159660.80</td>\n",
       "      <td>3</td>\n",
       "      <td>1</td>\n",
       "      <td>0</td>\n",
       "      <td>113931.57</td>\n",
       "      <td>1</td>\n",
       "    </tr>\n",
       "    <tr>\n",
       "      <th>3</th>\n",
       "      <td>699</td>\n",
       "      <td>France</td>\n",
       "      <td>Female</td>\n",
       "      <td>39</td>\n",
       "      <td>1</td>\n",
       "      <td>0.00</td>\n",
       "      <td>2</td>\n",
       "      <td>0</td>\n",
       "      <td>0</td>\n",
       "      <td>93826.63</td>\n",
       "      <td>0</td>\n",
       "    </tr>\n",
       "    <tr>\n",
       "      <th>4</th>\n",
       "      <td>850</td>\n",
       "      <td>Spain</td>\n",
       "      <td>Female</td>\n",
       "      <td>43</td>\n",
       "      <td>2</td>\n",
       "      <td>125510.82</td>\n",
       "      <td>1</td>\n",
       "      <td>1</td>\n",
       "      <td>1</td>\n",
       "      <td>79084.10</td>\n",
       "      <td>0</td>\n",
       "    </tr>\n",
       "  </tbody>\n",
       "</table>\n",
       "</div>"
      ],
      "text/plain": [
       "   CreditScore Geography  Gender  Age  Tenure    Balance  NumOfProducts  \\\n",
       "0          619    France  Female   42       2       0.00              1   \n",
       "1          608     Spain  Female   41       1   83807.86              1   \n",
       "2          502    France  Female   42       8  159660.80              3   \n",
       "3          699    France  Female   39       1       0.00              2   \n",
       "4          850     Spain  Female   43       2  125510.82              1   \n",
       "\n",
       "   HasCrCard  IsActiveMember  EstimatedSalary  Exited  \n",
       "0          1               1        101348.88       1  \n",
       "1          0               1        112542.58       0  \n",
       "2          1               0        113931.57       1  \n",
       "3          0               0         93826.63       0  \n",
       "4          1               1         79084.10       0  "
      ]
     },
     "execution_count": 8,
     "metadata": {},
     "output_type": "execute_result"
    }
   ],
   "source": [
    "df.head() # ok, took longer than expected to drop columns, was making a mistake of nor including axis=1 => By default axis=0 (row)"
   ]
  },
  {
   "cell_type": "code",
   "execution_count": 9,
   "id": "59e3934d",
   "metadata": {
    "execution": {
     "iopub.execute_input": "2025-07-04T06:21:16.356705Z",
     "iopub.status.busy": "2025-07-04T06:21:16.356099Z",
     "iopub.status.idle": "2025-07-04T06:21:16.361636Z",
     "shell.execute_reply": "2025-07-04T06:21:16.360742Z"
    },
    "papermill": {
     "duration": 0.014528,
     "end_time": "2025-07-04T06:21:16.363201",
     "exception": false,
     "start_time": "2025-07-04T06:21:16.348673",
     "status": "completed"
    },
    "tags": []
   },
   "outputs": [
    {
     "data": {
      "text/plain": [
       "(10000, 11)"
      ]
     },
     "execution_count": 9,
     "metadata": {},
     "output_type": "execute_result"
    }
   ],
   "source": [
    "df.shape\n"
   ]
  },
  {
   "cell_type": "code",
   "execution_count": 10,
   "id": "61cfc311",
   "metadata": {
    "execution": {
     "iopub.execute_input": "2025-07-04T06:21:16.377712Z",
     "iopub.status.busy": "2025-07-04T06:21:16.377397Z",
     "iopub.status.idle": "2025-07-04T06:21:16.390537Z",
     "shell.execute_reply": "2025-07-04T06:21:16.389605Z"
    },
    "papermill": {
     "duration": 0.022033,
     "end_time": "2025-07-04T06:21:16.391953",
     "exception": false,
     "start_time": "2025-07-04T06:21:16.369920",
     "status": "completed"
    },
    "tags": []
   },
   "outputs": [
    {
     "name": "stdout",
     "output_type": "stream",
     "text": [
      "<class 'pandas.core.frame.DataFrame'>\n",
      "RangeIndex: 10000 entries, 0 to 9999\n",
      "Data columns (total 11 columns):\n",
      " #   Column           Non-Null Count  Dtype  \n",
      "---  ------           --------------  -----  \n",
      " 0   CreditScore      10000 non-null  int64  \n",
      " 1   Geography        10000 non-null  object \n",
      " 2   Gender           10000 non-null  object \n",
      " 3   Age              10000 non-null  int64  \n",
      " 4   Tenure           10000 non-null  int64  \n",
      " 5   Balance          10000 non-null  float64\n",
      " 6   NumOfProducts    10000 non-null  int64  \n",
      " 7   HasCrCard        10000 non-null  int64  \n",
      " 8   IsActiveMember   10000 non-null  int64  \n",
      " 9   EstimatedSalary  10000 non-null  float64\n",
      " 10  Exited           10000 non-null  int64  \n",
      "dtypes: float64(2), int64(7), object(2)\n",
      "memory usage: 859.5+ KB\n"
     ]
    }
   ],
   "source": [
    "df.info()"
   ]
  },
  {
   "cell_type": "code",
   "execution_count": 11,
   "id": "cacdc88c",
   "metadata": {
    "execution": {
     "iopub.execute_input": "2025-07-04T06:21:16.406799Z",
     "iopub.status.busy": "2025-07-04T06:21:16.406500Z",
     "iopub.status.idle": "2025-07-04T06:21:16.417330Z",
     "shell.execute_reply": "2025-07-04T06:21:16.416484Z"
    },
    "papermill": {
     "duration": 0.020132,
     "end_time": "2025-07-04T06:21:16.418810",
     "exception": false,
     "start_time": "2025-07-04T06:21:16.398678",
     "status": "completed"
    },
    "tags": []
   },
   "outputs": [],
   "source": [
    "# here we need to trasform (One-hot-encode) the categorical data into numerical for analysis\n",
    "df = pd.get_dummies(df,columns=['Geography','Gender'], drop_first=True )\n",
    "\n",
    "# see here what we did is, converted them in mumerical also, we did drop_first = true => which means one columns drops, for eq. Gender have 2 Categories so one is represented as 1 and other as 0;"
   ]
  },
  {
   "cell_type": "code",
   "execution_count": 12,
   "id": "f59b3dea",
   "metadata": {
    "execution": {
     "iopub.execute_input": "2025-07-04T06:21:16.433561Z",
     "iopub.status.busy": "2025-07-04T06:21:16.432951Z",
     "iopub.status.idle": "2025-07-04T06:21:16.446362Z",
     "shell.execute_reply": "2025-07-04T06:21:16.445526Z"
    },
    "papermill": {
     "duration": 0.022356,
     "end_time": "2025-07-04T06:21:16.447900",
     "exception": false,
     "start_time": "2025-07-04T06:21:16.425544",
     "status": "completed"
    },
    "tags": []
   },
   "outputs": [
    {
     "data": {
      "text/html": [
       "<div>\n",
       "<style scoped>\n",
       "    .dataframe tbody tr th:only-of-type {\n",
       "        vertical-align: middle;\n",
       "    }\n",
       "\n",
       "    .dataframe tbody tr th {\n",
       "        vertical-align: top;\n",
       "    }\n",
       "\n",
       "    .dataframe thead th {\n",
       "        text-align: right;\n",
       "    }\n",
       "</style>\n",
       "<table border=\"1\" class=\"dataframe\">\n",
       "  <thead>\n",
       "    <tr style=\"text-align: right;\">\n",
       "      <th></th>\n",
       "      <th>CreditScore</th>\n",
       "      <th>Age</th>\n",
       "      <th>Tenure</th>\n",
       "      <th>Balance</th>\n",
       "      <th>NumOfProducts</th>\n",
       "      <th>HasCrCard</th>\n",
       "      <th>IsActiveMember</th>\n",
       "      <th>EstimatedSalary</th>\n",
       "      <th>Exited</th>\n",
       "      <th>Geography_Germany</th>\n",
       "      <th>Geography_Spain</th>\n",
       "      <th>Gender_Male</th>\n",
       "    </tr>\n",
       "  </thead>\n",
       "  <tbody>\n",
       "    <tr>\n",
       "      <th>0</th>\n",
       "      <td>619</td>\n",
       "      <td>42</td>\n",
       "      <td>2</td>\n",
       "      <td>0.00</td>\n",
       "      <td>1</td>\n",
       "      <td>1</td>\n",
       "      <td>1</td>\n",
       "      <td>101348.88</td>\n",
       "      <td>1</td>\n",
       "      <td>False</td>\n",
       "      <td>False</td>\n",
       "      <td>False</td>\n",
       "    </tr>\n",
       "    <tr>\n",
       "      <th>1</th>\n",
       "      <td>608</td>\n",
       "      <td>41</td>\n",
       "      <td>1</td>\n",
       "      <td>83807.86</td>\n",
       "      <td>1</td>\n",
       "      <td>0</td>\n",
       "      <td>1</td>\n",
       "      <td>112542.58</td>\n",
       "      <td>0</td>\n",
       "      <td>False</td>\n",
       "      <td>True</td>\n",
       "      <td>False</td>\n",
       "    </tr>\n",
       "    <tr>\n",
       "      <th>2</th>\n",
       "      <td>502</td>\n",
       "      <td>42</td>\n",
       "      <td>8</td>\n",
       "      <td>159660.80</td>\n",
       "      <td>3</td>\n",
       "      <td>1</td>\n",
       "      <td>0</td>\n",
       "      <td>113931.57</td>\n",
       "      <td>1</td>\n",
       "      <td>False</td>\n",
       "      <td>False</td>\n",
       "      <td>False</td>\n",
       "    </tr>\n",
       "    <tr>\n",
       "      <th>3</th>\n",
       "      <td>699</td>\n",
       "      <td>39</td>\n",
       "      <td>1</td>\n",
       "      <td>0.00</td>\n",
       "      <td>2</td>\n",
       "      <td>0</td>\n",
       "      <td>0</td>\n",
       "      <td>93826.63</td>\n",
       "      <td>0</td>\n",
       "      <td>False</td>\n",
       "      <td>False</td>\n",
       "      <td>False</td>\n",
       "    </tr>\n",
       "    <tr>\n",
       "      <th>4</th>\n",
       "      <td>850</td>\n",
       "      <td>43</td>\n",
       "      <td>2</td>\n",
       "      <td>125510.82</td>\n",
       "      <td>1</td>\n",
       "      <td>1</td>\n",
       "      <td>1</td>\n",
       "      <td>79084.10</td>\n",
       "      <td>0</td>\n",
       "      <td>False</td>\n",
       "      <td>True</td>\n",
       "      <td>False</td>\n",
       "    </tr>\n",
       "  </tbody>\n",
       "</table>\n",
       "</div>"
      ],
      "text/plain": [
       "   CreditScore  Age  Tenure    Balance  NumOfProducts  HasCrCard  \\\n",
       "0          619   42       2       0.00              1          1   \n",
       "1          608   41       1   83807.86              1          0   \n",
       "2          502   42       8  159660.80              3          1   \n",
       "3          699   39       1       0.00              2          0   \n",
       "4          850   43       2  125510.82              1          1   \n",
       "\n",
       "   IsActiveMember  EstimatedSalary  Exited  Geography_Germany  \\\n",
       "0               1        101348.88       1              False   \n",
       "1               1        112542.58       0              False   \n",
       "2               0        113931.57       1              False   \n",
       "3               0         93826.63       0              False   \n",
       "4               1         79084.10       0              False   \n",
       "\n",
       "   Geography_Spain  Gender_Male  \n",
       "0            False        False  \n",
       "1             True        False  \n",
       "2            False        False  \n",
       "3            False        False  \n",
       "4             True        False  "
      ]
     },
     "execution_count": 12,
     "metadata": {},
     "output_type": "execute_result"
    }
   ],
   "source": [
    "df.head()"
   ]
  },
  {
   "cell_type": "markdown",
   "id": "bf56a077",
   "metadata": {
    "papermill": {
     "duration": 0.006615,
     "end_time": "2025-07-04T06:21:16.461626",
     "exception": false,
     "start_time": "2025-07-04T06:21:16.455011",
     "status": "completed"
    },
    "tags": []
   },
   "source": [
    "Here we got another problem, the values are not in one scale which will effect on converging the Data due to the randoms weights between neurons"
   ]
  },
  {
   "cell_type": "code",
   "execution_count": 13,
   "id": "ac676c89",
   "metadata": {
    "execution": {
     "iopub.execute_input": "2025-07-04T06:21:16.476771Z",
     "iopub.status.busy": "2025-07-04T06:21:16.476032Z",
     "iopub.status.idle": "2025-07-04T06:21:17.915074Z",
     "shell.execute_reply": "2025-07-04T06:21:17.914272Z"
    },
    "papermill": {
     "duration": 1.448382,
     "end_time": "2025-07-04T06:21:17.916830",
     "exception": false,
     "start_time": "2025-07-04T06:21:16.468448",
     "status": "completed"
    },
    "tags": []
   },
   "outputs": [],
   "source": [
    "X = df.drop(columns=['Exited'])\n",
    "y= df['Exited']\n",
    "\n",
    "from sklearn.model_selection import train_test_split\n",
    "X_train,X_test,y_train,y_test = train_test_split(X,y,test_size=0.2, random_state=42)"
   ]
  },
  {
   "cell_type": "code",
   "execution_count": 14,
   "id": "0659a167",
   "metadata": {
    "execution": {
     "iopub.execute_input": "2025-07-04T06:21:17.932453Z",
     "iopub.status.busy": "2025-07-04T06:21:17.931568Z",
     "iopub.status.idle": "2025-07-04T06:21:17.938378Z",
     "shell.execute_reply": "2025-07-04T06:21:17.937554Z"
    },
    "papermill": {
     "duration": 0.015934,
     "end_time": "2025-07-04T06:21:17.939849",
     "exception": false,
     "start_time": "2025-07-04T06:21:17.923915",
     "status": "completed"
    },
    "tags": []
   },
   "outputs": [
    {
     "data": {
      "text/plain": [
       "0       1\n",
       "1       0\n",
       "2       1\n",
       "3       0\n",
       "4       0\n",
       "       ..\n",
       "9995    0\n",
       "9996    0\n",
       "9997    1\n",
       "9998    1\n",
       "9999    0\n",
       "Name: Exited, Length: 10000, dtype: int64"
      ]
     },
     "execution_count": 14,
     "metadata": {},
     "output_type": "execute_result"
    }
   ],
   "source": [
    "y\n"
   ]
  },
  {
   "cell_type": "code",
   "execution_count": 15,
   "id": "390193ff",
   "metadata": {
    "execution": {
     "iopub.execute_input": "2025-07-04T06:21:17.955272Z",
     "iopub.status.busy": "2025-07-04T06:21:17.954609Z",
     "iopub.status.idle": "2025-07-04T06:21:17.996435Z",
     "shell.execute_reply": "2025-07-04T06:21:17.995651Z"
    },
    "papermill": {
     "duration": 0.051151,
     "end_time": "2025-07-04T06:21:17.998022",
     "exception": false,
     "start_time": "2025-07-04T06:21:17.946871",
     "status": "completed"
    },
    "tags": []
   },
   "outputs": [],
   "source": [
    "from sklearn.preprocessing import StandardScaler\n",
    "scaler = StandardScaler()\n",
    "\n",
    "X_train_scaled = scaler.fit_transform(X_train)\n",
    "X_test_scaled = scaler.transform(X_test)"
   ]
  },
  {
   "cell_type": "code",
   "execution_count": 16,
   "id": "609f1968",
   "metadata": {
    "execution": {
     "iopub.execute_input": "2025-07-04T06:21:18.017224Z",
     "iopub.status.busy": "2025-07-04T06:21:18.016319Z",
     "iopub.status.idle": "2025-07-04T06:21:18.023309Z",
     "shell.execute_reply": "2025-07-04T06:21:18.022290Z"
    },
    "papermill": {
     "duration": 0.019749,
     "end_time": "2025-07-04T06:21:18.024843",
     "exception": false,
     "start_time": "2025-07-04T06:21:18.005094",
     "status": "completed"
    },
    "tags": []
   },
   "outputs": [
    {
     "data": {
      "text/plain": [
       "array([[ 0.35649971, -0.6557859 ,  0.34567966, ..., -0.57946723,\n",
       "        -0.57638802,  0.91324755],\n",
       "       [-0.20389777,  0.29493847, -0.3483691 , ...,  1.72572313,\n",
       "        -0.57638802,  0.91324755],\n",
       "       [-0.96147213, -1.41636539, -0.69539349, ..., -0.57946723,\n",
       "         1.73494238,  0.91324755],\n",
       "       ...,\n",
       "       [ 0.86500853, -0.08535128, -1.38944225, ..., -0.57946723,\n",
       "        -0.57638802, -1.09499335],\n",
       "       [ 0.15932282,  0.3900109 ,  1.03972843, ..., -0.57946723,\n",
       "        -0.57638802,  0.91324755],\n",
       "       [ 0.47065475,  1.15059039, -1.38944225, ...,  1.72572313,\n",
       "        -0.57638802,  0.91324755]])"
      ]
     },
     "execution_count": 16,
     "metadata": {},
     "output_type": "execute_result"
    }
   ],
   "source": [
    "X_train_scaled # uff it looks scary, it transforms all the 10k rows at one scale \n"
   ]
  },
  {
   "cell_type": "code",
   "execution_count": 17,
   "id": "d39fb5df",
   "metadata": {
    "execution": {
     "iopub.execute_input": "2025-07-04T06:21:18.042051Z",
     "iopub.status.busy": "2025-07-04T06:21:18.041447Z",
     "iopub.status.idle": "2025-07-04T06:21:33.970637Z",
     "shell.execute_reply": "2025-07-04T06:21:33.969850Z"
    },
    "papermill": {
     "duration": 15.939582,
     "end_time": "2025-07-04T06:21:33.972358",
     "exception": false,
     "start_time": "2025-07-04T06:21:18.032776",
     "status": "completed"
    },
    "tags": []
   },
   "outputs": [
    {
     "name": "stderr",
     "output_type": "stream",
     "text": [
      "2025-07-04 06:21:19.649449: E external/local_xla/xla/stream_executor/cuda/cuda_fft.cc:477] Unable to register cuFFT factory: Attempting to register factory for plugin cuFFT when one has already been registered\n",
      "WARNING: All log messages before absl::InitializeLog() is called are written to STDERR\n",
      "E0000 00:00:1751610079.866211      13 cuda_dnn.cc:8310] Unable to register cuDNN factory: Attempting to register factory for plugin cuDNN when one has already been registered\n",
      "E0000 00:00:1751610079.933266      13 cuda_blas.cc:1418] Unable to register cuBLAS factory: Attempting to register factory for plugin cuBLAS when one has already been registered\n"
     ]
    }
   ],
   "source": [
    "import tensorflow\n",
    "from tensorflow import keras\n",
    "from tensorflow.keras import Sequential \n",
    "from tensorflow.keras.layers import Dense, Input"
   ]
  },
  {
   "cell_type": "markdown",
   "id": "47ad3ba2",
   "metadata": {
    "papermill": {
     "duration": 0.006801,
     "end_time": "2025-07-04T06:21:33.986519",
     "exception": false,
     "start_time": "2025-07-04T06:21:33.979718",
     "status": "completed"
    },
    "tags": []
   },
   "source": [
    "Now we are going to Build Sequential Model"
   ]
  },
  {
   "cell_type": "code",
   "execution_count": 18,
   "id": "a00dcaca",
   "metadata": {
    "execution": {
     "iopub.execute_input": "2025-07-04T06:21:34.002346Z",
     "iopub.status.busy": "2025-07-04T06:21:34.001178Z",
     "iopub.status.idle": "2025-07-04T06:21:34.080358Z",
     "shell.execute_reply": "2025-07-04T06:21:34.079146Z"
    },
    "papermill": {
     "duration": 0.088523,
     "end_time": "2025-07-04T06:21:34.081920",
     "exception": false,
     "start_time": "2025-07-04T06:21:33.993397",
     "status": "completed"
    },
    "tags": []
   },
   "outputs": [
    {
     "name": "stderr",
     "output_type": "stream",
     "text": [
      "2025-07-04 06:21:34.012098: E external/local_xla/xla/stream_executor/cuda/cuda_driver.cc:152] failed call to cuInit: INTERNAL: CUDA error: Failed call to cuInit: UNKNOWN ERROR (303)\n"
     ]
    }
   ],
   "source": [
    "model = Sequential()\n",
    "\n",
    "# for now we will have one input layer, one hidden layer and one output layer\n",
    "# will put 3 perceptron in hidden layer\n",
    "\n",
    "\n",
    "# Add input layer + hidden layer (3 neurons, sigmoid)\n",
    "model.add(Input(shape=(11,)))\n",
    "model.add(Dense(3, activation='sigmoid'))\n",
    "\n",
    "# Add output layer (1 neuron, sigmoid)\n",
    "model.add(Dense(1, activation='sigmoid'))"
   ]
  },
  {
   "cell_type": "code",
   "execution_count": 19,
   "id": "92b6d23d",
   "metadata": {
    "execution": {
     "iopub.execute_input": "2025-07-04T06:21:34.097162Z",
     "iopub.status.busy": "2025-07-04T06:21:34.096873Z",
     "iopub.status.idle": "2025-07-04T06:21:34.112686Z",
     "shell.execute_reply": "2025-07-04T06:21:34.111843Z"
    },
    "papermill": {
     "duration": 0.025016,
     "end_time": "2025-07-04T06:21:34.114029",
     "exception": false,
     "start_time": "2025-07-04T06:21:34.089013",
     "status": "completed"
    },
    "tags": []
   },
   "outputs": [
    {
     "data": {
      "text/html": [
       "<pre style=\"white-space:pre;overflow-x:auto;line-height:normal;font-family:Menlo,'DejaVu Sans Mono',consolas,'Courier New',monospace\"><span style=\"font-weight: bold\">Model: \"sequential\"</span>\n",
       "</pre>\n"
      ],
      "text/plain": [
       "\u001b[1mModel: \"sequential\"\u001b[0m\n"
      ]
     },
     "metadata": {},
     "output_type": "display_data"
    },
    {
     "data": {
      "text/html": [
       "<pre style=\"white-space:pre;overflow-x:auto;line-height:normal;font-family:Menlo,'DejaVu Sans Mono',consolas,'Courier New',monospace\">┏━━━━━━━━━━━━━━━━━━━━━━━━━━━━━━━━━━━━━━┳━━━━━━━━━━━━━━━━━━━━━━━━━━━━━┳━━━━━━━━━━━━━━━━━┓\n",
       "┃<span style=\"font-weight: bold\"> Layer (type)                         </span>┃<span style=\"font-weight: bold\"> Output Shape                </span>┃<span style=\"font-weight: bold\">         Param # </span>┃\n",
       "┡━━━━━━━━━━━━━━━━━━━━━━━━━━━━━━━━━━━━━━╇━━━━━━━━━━━━━━━━━━━━━━━━━━━━━╇━━━━━━━━━━━━━━━━━┩\n",
       "│ dense (<span style=\"color: #0087ff; text-decoration-color: #0087ff\">Dense</span>)                        │ (<span style=\"color: #00d7ff; text-decoration-color: #00d7ff\">None</span>, <span style=\"color: #00af00; text-decoration-color: #00af00\">3</span>)                   │              <span style=\"color: #00af00; text-decoration-color: #00af00\">36</span> │\n",
       "├──────────────────────────────────────┼─────────────────────────────┼─────────────────┤\n",
       "│ dense_1 (<span style=\"color: #0087ff; text-decoration-color: #0087ff\">Dense</span>)                      │ (<span style=\"color: #00d7ff; text-decoration-color: #00d7ff\">None</span>, <span style=\"color: #00af00; text-decoration-color: #00af00\">1</span>)                   │               <span style=\"color: #00af00; text-decoration-color: #00af00\">4</span> │\n",
       "└──────────────────────────────────────┴─────────────────────────────┴─────────────────┘\n",
       "</pre>\n"
      ],
      "text/plain": [
       "┏━━━━━━━━━━━━━━━━━━━━━━━━━━━━━━━━━━━━━━┳━━━━━━━━━━━━━━━━━━━━━━━━━━━━━┳━━━━━━━━━━━━━━━━━┓\n",
       "┃\u001b[1m \u001b[0m\u001b[1mLayer (type)                        \u001b[0m\u001b[1m \u001b[0m┃\u001b[1m \u001b[0m\u001b[1mOutput Shape               \u001b[0m\u001b[1m \u001b[0m┃\u001b[1m \u001b[0m\u001b[1m        Param #\u001b[0m\u001b[1m \u001b[0m┃\n",
       "┡━━━━━━━━━━━━━━━━━━━━━━━━━━━━━━━━━━━━━━╇━━━━━━━━━━━━━━━━━━━━━━━━━━━━━╇━━━━━━━━━━━━━━━━━┩\n",
       "│ dense (\u001b[38;5;33mDense\u001b[0m)                        │ (\u001b[38;5;45mNone\u001b[0m, \u001b[38;5;34m3\u001b[0m)                   │              \u001b[38;5;34m36\u001b[0m │\n",
       "├──────────────────────────────────────┼─────────────────────────────┼─────────────────┤\n",
       "│ dense_1 (\u001b[38;5;33mDense\u001b[0m)                      │ (\u001b[38;5;45mNone\u001b[0m, \u001b[38;5;34m1\u001b[0m)                   │               \u001b[38;5;34m4\u001b[0m │\n",
       "└──────────────────────────────────────┴─────────────────────────────┴─────────────────┘\n"
      ]
     },
     "metadata": {},
     "output_type": "display_data"
    },
    {
     "data": {
      "text/html": [
       "<pre style=\"white-space:pre;overflow-x:auto;line-height:normal;font-family:Menlo,'DejaVu Sans Mono',consolas,'Courier New',monospace\"><span style=\"font-weight: bold\"> Total params: </span><span style=\"color: #00af00; text-decoration-color: #00af00\">40</span> (160.00 B)\n",
       "</pre>\n"
      ],
      "text/plain": [
       "\u001b[1m Total params: \u001b[0m\u001b[38;5;34m40\u001b[0m (160.00 B)\n"
      ]
     },
     "metadata": {},
     "output_type": "display_data"
    },
    {
     "data": {
      "text/html": [
       "<pre style=\"white-space:pre;overflow-x:auto;line-height:normal;font-family:Menlo,'DejaVu Sans Mono',consolas,'Courier New',monospace\"><span style=\"font-weight: bold\"> Trainable params: </span><span style=\"color: #00af00; text-decoration-color: #00af00\">40</span> (160.00 B)\n",
       "</pre>\n"
      ],
      "text/plain": [
       "\u001b[1m Trainable params: \u001b[0m\u001b[38;5;34m40\u001b[0m (160.00 B)\n"
      ]
     },
     "metadata": {},
     "output_type": "display_data"
    },
    {
     "data": {
      "text/html": [
       "<pre style=\"white-space:pre;overflow-x:auto;line-height:normal;font-family:Menlo,'DejaVu Sans Mono',consolas,'Courier New',monospace\"><span style=\"font-weight: bold\"> Non-trainable params: </span><span style=\"color: #00af00; text-decoration-color: #00af00\">0</span> (0.00 B)\n",
       "</pre>\n"
      ],
      "text/plain": [
       "\u001b[1m Non-trainable params: \u001b[0m\u001b[38;5;34m0\u001b[0m (0.00 B)\n"
      ]
     },
     "metadata": {},
     "output_type": "display_data"
    }
   ],
   "source": [
    "model.summary()"
   ]
  },
  {
   "cell_type": "code",
   "execution_count": 20,
   "id": "e6d94ea5",
   "metadata": {
    "execution": {
     "iopub.execute_input": "2025-07-04T06:21:34.131188Z",
     "iopub.status.busy": "2025-07-04T06:21:34.130875Z",
     "iopub.status.idle": "2025-07-04T06:21:34.147293Z",
     "shell.execute_reply": "2025-07-04T06:21:34.146409Z"
    },
    "papermill": {
     "duration": 0.026703,
     "end_time": "2025-07-04T06:21:34.148889",
     "exception": false,
     "start_time": "2025-07-04T06:21:34.122186",
     "status": "completed"
    },
    "tags": []
   },
   "outputs": [],
   "source": [
    "model.compile(loss='binary_crossentropy',optimizer='adam')"
   ]
  },
  {
   "cell_type": "code",
   "execution_count": 21,
   "id": "da43f75b",
   "metadata": {
    "execution": {
     "iopub.execute_input": "2025-07-04T06:21:34.165985Z",
     "iopub.status.busy": "2025-07-04T06:21:34.165649Z",
     "iopub.status.idle": "2025-07-04T06:21:47.774918Z",
     "shell.execute_reply": "2025-07-04T06:21:47.773900Z"
    },
    "papermill": {
     "duration": 13.619554,
     "end_time": "2025-07-04T06:21:47.776427",
     "exception": false,
     "start_time": "2025-07-04T06:21:34.156873",
     "status": "completed"
    },
    "tags": []
   },
   "outputs": [
    {
     "name": "stdout",
     "output_type": "stream",
     "text": [
      "Epoch 1/30\n",
      "\u001b[1m250/250\u001b[0m \u001b[32m━━━━━━━━━━━━━━━━━━━━\u001b[0m\u001b[37m\u001b[0m \u001b[1m2s\u001b[0m 2ms/step - loss: 0.5387\n",
      "Epoch 2/30\n",
      "\u001b[1m250/250\u001b[0m \u001b[32m━━━━━━━━━━━━━━━━━━━━\u001b[0m\u001b[37m\u001b[0m \u001b[1m0s\u001b[0m 2ms/step - loss: 0.5001\n",
      "Epoch 3/30\n",
      "\u001b[1m250/250\u001b[0m \u001b[32m━━━━━━━━━━━━━━━━━━━━\u001b[0m\u001b[37m\u001b[0m \u001b[1m0s\u001b[0m 1ms/step - loss: 0.4859\n",
      "Epoch 4/30\n",
      "\u001b[1m250/250\u001b[0m \u001b[32m━━━━━━━━━━━━━━━━━━━━\u001b[0m\u001b[37m\u001b[0m \u001b[1m0s\u001b[0m 2ms/step - loss: 0.4649\n",
      "Epoch 5/30\n",
      "\u001b[1m250/250\u001b[0m \u001b[32m━━━━━━━━━━━━━━━━━━━━\u001b[0m\u001b[37m\u001b[0m \u001b[1m0s\u001b[0m 2ms/step - loss: 0.4617\n",
      "Epoch 6/30\n",
      "\u001b[1m250/250\u001b[0m \u001b[32m━━━━━━━━━━━━━━━━━━━━\u001b[0m\u001b[37m\u001b[0m \u001b[1m0s\u001b[0m 2ms/step - loss: 0.4487\n",
      "Epoch 7/30\n",
      "\u001b[1m250/250\u001b[0m \u001b[32m━━━━━━━━━━━━━━━━━━━━\u001b[0m\u001b[37m\u001b[0m \u001b[1m0s\u001b[0m 1ms/step - loss: 0.4550\n",
      "Epoch 8/30\n",
      "\u001b[1m250/250\u001b[0m \u001b[32m━━━━━━━━━━━━━━━━━━━━\u001b[0m\u001b[37m\u001b[0m \u001b[1m0s\u001b[0m 1ms/step - loss: 0.4398\n",
      "Epoch 9/30\n",
      "\u001b[1m250/250\u001b[0m \u001b[32m━━━━━━━━━━━━━━━━━━━━\u001b[0m\u001b[37m\u001b[0m \u001b[1m0s\u001b[0m 2ms/step - loss: 0.4305\n",
      "Epoch 10/30\n",
      "\u001b[1m250/250\u001b[0m \u001b[32m━━━━━━━━━━━━━━━━━━━━\u001b[0m\u001b[37m\u001b[0m \u001b[1m0s\u001b[0m 1ms/step - loss: 0.4384\n",
      "Epoch 11/30\n",
      "\u001b[1m250/250\u001b[0m \u001b[32m━━━━━━━━━━━━━━━━━━━━\u001b[0m\u001b[37m\u001b[0m \u001b[1m0s\u001b[0m 2ms/step - loss: 0.4350\n",
      "Epoch 12/30\n",
      "\u001b[1m250/250\u001b[0m \u001b[32m━━━━━━━━━━━━━━━━━━━━\u001b[0m\u001b[37m\u001b[0m \u001b[1m0s\u001b[0m 2ms/step - loss: 0.4376\n",
      "Epoch 13/30\n",
      "\u001b[1m250/250\u001b[0m \u001b[32m━━━━━━━━━━━━━━━━━━━━\u001b[0m\u001b[37m\u001b[0m \u001b[1m0s\u001b[0m 2ms/step - loss: 0.4337\n",
      "Epoch 14/30\n",
      "\u001b[1m250/250\u001b[0m \u001b[32m━━━━━━━━━━━━━━━━━━━━\u001b[0m\u001b[37m\u001b[0m \u001b[1m0s\u001b[0m 2ms/step - loss: 0.4298\n",
      "Epoch 15/30\n",
      "\u001b[1m250/250\u001b[0m \u001b[32m━━━━━━━━━━━━━━━━━━━━\u001b[0m\u001b[37m\u001b[0m \u001b[1m0s\u001b[0m 2ms/step - loss: 0.4311\n",
      "Epoch 16/30\n",
      "\u001b[1m250/250\u001b[0m \u001b[32m━━━━━━━━━━━━━━━━━━━━\u001b[0m\u001b[37m\u001b[0m \u001b[1m0s\u001b[0m 2ms/step - loss: 0.4272\n",
      "Epoch 17/30\n",
      "\u001b[1m250/250\u001b[0m \u001b[32m━━━━━━━━━━━━━━━━━━━━\u001b[0m\u001b[37m\u001b[0m \u001b[1m0s\u001b[0m 2ms/step - loss: 0.4256\n",
      "Epoch 18/30\n",
      "\u001b[1m250/250\u001b[0m \u001b[32m━━━━━━━━━━━━━━━━━━━━\u001b[0m\u001b[37m\u001b[0m \u001b[1m0s\u001b[0m 2ms/step - loss: 0.4292\n",
      "Epoch 19/30\n",
      "\u001b[1m250/250\u001b[0m \u001b[32m━━━━━━━━━━━━━━━━━━━━\u001b[0m\u001b[37m\u001b[0m \u001b[1m0s\u001b[0m 2ms/step - loss: 0.4276\n",
      "Epoch 20/30\n",
      "\u001b[1m250/250\u001b[0m \u001b[32m━━━━━━━━━━━━━━━━━━━━\u001b[0m\u001b[37m\u001b[0m \u001b[1m0s\u001b[0m 2ms/step - loss: 0.4241\n",
      "Epoch 21/30\n",
      "\u001b[1m250/250\u001b[0m \u001b[32m━━━━━━━━━━━━━━━━━━━━\u001b[0m\u001b[37m\u001b[0m \u001b[1m0s\u001b[0m 2ms/step - loss: 0.4160\n",
      "Epoch 22/30\n",
      "\u001b[1m250/250\u001b[0m \u001b[32m━━━━━━━━━━━━━━━━━━━━\u001b[0m\u001b[37m\u001b[0m \u001b[1m0s\u001b[0m 2ms/step - loss: 0.4341\n",
      "Epoch 23/30\n",
      "\u001b[1m250/250\u001b[0m \u001b[32m━━━━━━━━━━━━━━━━━━━━\u001b[0m\u001b[37m\u001b[0m \u001b[1m0s\u001b[0m 2ms/step - loss: 0.4148\n",
      "Epoch 24/30\n",
      "\u001b[1m250/250\u001b[0m \u001b[32m━━━━━━━━━━━━━━━━━━━━\u001b[0m\u001b[37m\u001b[0m \u001b[1m0s\u001b[0m 2ms/step - loss: 0.4262\n",
      "Epoch 25/30\n",
      "\u001b[1m250/250\u001b[0m \u001b[32m━━━━━━━━━━━━━━━━━━━━\u001b[0m\u001b[37m\u001b[0m \u001b[1m0s\u001b[0m 2ms/step - loss: 0.4192\n",
      "Epoch 26/30\n",
      "\u001b[1m250/250\u001b[0m \u001b[32m━━━━━━━━━━━━━━━━━━━━\u001b[0m\u001b[37m\u001b[0m \u001b[1m0s\u001b[0m 2ms/step - loss: 0.4243\n",
      "Epoch 27/30\n",
      "\u001b[1m250/250\u001b[0m \u001b[32m━━━━━━━━━━━━━━━━━━━━\u001b[0m\u001b[37m\u001b[0m \u001b[1m0s\u001b[0m 2ms/step - loss: 0.4148\n",
      "Epoch 28/30\n",
      "\u001b[1m250/250\u001b[0m \u001b[32m━━━━━━━━━━━━━━━━━━━━\u001b[0m\u001b[37m\u001b[0m \u001b[1m0s\u001b[0m 1ms/step - loss: 0.4233\n",
      "Epoch 29/30\n",
      "\u001b[1m250/250\u001b[0m \u001b[32m━━━━━━━━━━━━━━━━━━━━\u001b[0m\u001b[37m\u001b[0m \u001b[1m0s\u001b[0m 1ms/step - loss: 0.4202\n",
      "Epoch 30/30\n",
      "\u001b[1m250/250\u001b[0m \u001b[32m━━━━━━━━━━━━━━━━━━━━\u001b[0m\u001b[37m\u001b[0m \u001b[1m0s\u001b[0m 2ms/step - loss: 0.4115\n"
     ]
    },
    {
     "data": {
      "text/plain": [
       "<keras.src.callbacks.history.History at 0x7edf89ab9dd0>"
      ]
     },
     "execution_count": 21,
     "metadata": {},
     "output_type": "execute_result"
    }
   ],
   "source": [
    "model.fit(X_train_scaled,y_train,epochs=30)"
   ]
  },
  {
   "cell_type": "code",
   "execution_count": 22,
   "id": "c69cf6fc",
   "metadata": {
    "execution": {
     "iopub.execute_input": "2025-07-04T06:21:47.826849Z",
     "iopub.status.busy": "2025-07-04T06:21:47.826521Z",
     "iopub.status.idle": "2025-07-04T06:21:47.836393Z",
     "shell.execute_reply": "2025-07-04T06:21:47.835709Z"
    },
    "papermill": {
     "duration": 0.035783,
     "end_time": "2025-07-04T06:21:47.837761",
     "exception": false,
     "start_time": "2025-07-04T06:21:47.801978",
     "status": "completed"
    },
    "tags": []
   },
   "outputs": [
    {
     "data": {
      "text/plain": [
       "[array([[ 0.257357  ,  0.13299432,  0.00521548],\n",
       "        [-3.1536348 , -0.44080645, -1.8961362 ],\n",
       "        [ 0.15799595,  0.16171862, -0.09794328],\n",
       "        [ 0.31672597, -0.526903  , -0.19824146],\n",
       "        [ 1.1394908 , -0.19875567, -0.06523695],\n",
       "        [-0.04155062,  0.11241775, -0.11895514],\n",
       "        [-0.40728074,  1.2767601 ,  0.5547078 ],\n",
       "        [ 0.18836723, -0.4362929 ,  0.34430194],\n",
       "        [-0.30123046, -0.98662335, -0.26428673],\n",
       "        [-0.42982143,  0.10891613, -0.08096061],\n",
       "        [ 0.13580814,  0.5659893 ,  0.40504628]], dtype=float32),\n",
       " array([0.54905283, 0.26232034, 0.10146227], dtype=float32)]"
      ]
     },
     "execution_count": 22,
     "metadata": {},
     "output_type": "execute_result"
    }
   ],
   "source": [
    "model.layers[0].get_weights() # layer[0] points to the input layer and the output weights shows the index wise the weights of the connection between each neuron also there is an second arry which shows the weight of bias\n"
   ]
  },
  {
   "cell_type": "code",
   "execution_count": 23,
   "id": "a3c08979",
   "metadata": {
    "execution": {
     "iopub.execute_input": "2025-07-04T06:21:47.887001Z",
     "iopub.status.busy": "2025-07-04T06:21:47.886701Z",
     "iopub.status.idle": "2025-07-04T06:21:47.894895Z",
     "shell.execute_reply": "2025-07-04T06:21:47.894099Z"
    },
    "papermill": {
     "duration": 0.03468,
     "end_time": "2025-07-04T06:21:47.896319",
     "exception": false,
     "start_time": "2025-07-04T06:21:47.861639",
     "status": "completed"
    },
    "tags": []
   },
   "outputs": [
    {
     "data": {
      "text/plain": [
       "[array([[-1.07753  ],\n",
       "        [-1.5560627],\n",
       "        [-1.3278164]], dtype=float32),\n",
       " array([0.5435857], dtype=float32)]"
      ]
     },
     "execution_count": 23,
     "metadata": {},
     "output_type": "execute_result"
    }
   ],
   "source": [
    "model.layers[1].get_weights()"
   ]
  },
  {
   "cell_type": "code",
   "execution_count": 24,
   "id": "e167b07d",
   "metadata": {
    "execution": {
     "iopub.execute_input": "2025-07-04T06:21:47.945027Z",
     "iopub.status.busy": "2025-07-04T06:21:47.944409Z",
     "iopub.status.idle": "2025-07-04T06:21:48.211447Z",
     "shell.execute_reply": "2025-07-04T06:21:48.210531Z"
    },
    "papermill": {
     "duration": 0.292911,
     "end_time": "2025-07-04T06:21:48.212921",
     "exception": false,
     "start_time": "2025-07-04T06:21:47.920010",
     "status": "completed"
    },
    "tags": []
   },
   "outputs": [
    {
     "name": "stdout",
     "output_type": "stream",
     "text": [
      "\u001b[1m63/63\u001b[0m \u001b[32m━━━━━━━━━━━━━━━━━━━━\u001b[0m\u001b[37m\u001b[0m \u001b[1m0s\u001b[0m 2ms/step  \n"
     ]
    },
    {
     "data": {
      "text/plain": [
       "array([[0.18517734],\n",
       "       [0.08839341],\n",
       "       [0.3709814 ],\n",
       "       ...,\n",
       "       [0.3842225 ],\n",
       "       [0.05126937],\n",
       "       [0.21359041]], dtype=float32)"
      ]
     },
     "execution_count": 24,
     "metadata": {},
     "output_type": "execute_result"
    }
   ],
   "source": [
    "model.predict(X_test_scaled) # here we go, got the predict value, but it is not 0 and 1, beacuse we used sigmoid function which put these as a probabilities"
   ]
  },
  {
   "cell_type": "code",
   "execution_count": 25,
   "id": "bbccb6ee",
   "metadata": {
    "execution": {
     "iopub.execute_input": "2025-07-04T06:21:48.314541Z",
     "iopub.status.busy": "2025-07-04T06:21:48.314180Z",
     "iopub.status.idle": "2025-07-04T06:21:48.492631Z",
     "shell.execute_reply": "2025-07-04T06:21:48.491832Z"
    },
    "papermill": {
     "duration": 0.205054,
     "end_time": "2025-07-04T06:21:48.494217",
     "exception": false,
     "start_time": "2025-07-04T06:21:48.289163",
     "status": "completed"
    },
    "tags": []
   },
   "outputs": [
    {
     "name": "stdout",
     "output_type": "stream",
     "text": [
      "\u001b[1m63/63\u001b[0m \u001b[32m━━━━━━━━━━━━━━━━━━━━\u001b[0m\u001b[37m\u001b[0m \u001b[1m0s\u001b[0m 1ms/step  \n"
     ]
    }
   ],
   "source": [
    "y_log = model.predict(X_test_scaled)"
   ]
  },
  {
   "cell_type": "code",
   "execution_count": 26,
   "id": "544d8d21",
   "metadata": {
    "execution": {
     "iopub.execute_input": "2025-07-04T06:21:48.544848Z",
     "iopub.status.busy": "2025-07-04T06:21:48.544533Z",
     "iopub.status.idle": "2025-07-04T06:21:48.548766Z",
     "shell.execute_reply": "2025-07-04T06:21:48.548031Z"
    },
    "papermill": {
     "duration": 0.031213,
     "end_time": "2025-07-04T06:21:48.550195",
     "exception": false,
     "start_time": "2025-07-04T06:21:48.518982",
     "status": "completed"
    },
    "tags": []
   },
   "outputs": [],
   "source": [
    "y_pred = np.where(y_log>0.5, 1,0)"
   ]
  },
  {
   "cell_type": "code",
   "execution_count": 27,
   "id": "3c37a386",
   "metadata": {
    "execution": {
     "iopub.execute_input": "2025-07-04T06:21:48.600590Z",
     "iopub.status.busy": "2025-07-04T06:21:48.599894Z",
     "iopub.status.idle": "2025-07-04T06:21:48.605638Z",
     "shell.execute_reply": "2025-07-04T06:21:48.604833Z"
    },
    "papermill": {
     "duration": 0.032329,
     "end_time": "2025-07-04T06:21:48.607095",
     "exception": false,
     "start_time": "2025-07-04T06:21:48.574766",
     "status": "completed"
    },
    "tags": []
   },
   "outputs": [
    {
     "data": {
      "text/plain": [
       "array([[0],\n",
       "       [0],\n",
       "       [0],\n",
       "       ...,\n",
       "       [0],\n",
       "       [0],\n",
       "       [0]])"
      ]
     },
     "execution_count": 27,
     "metadata": {},
     "output_type": "execute_result"
    }
   ],
   "source": [
    "y_pred # see output changes"
   ]
  },
  {
   "cell_type": "code",
   "execution_count": 28,
   "id": "0c9407c1",
   "metadata": {
    "execution": {
     "iopub.execute_input": "2025-07-04T06:21:48.656888Z",
     "iopub.status.busy": "2025-07-04T06:21:48.656576Z",
     "iopub.status.idle": "2025-07-04T06:21:48.664208Z",
     "shell.execute_reply": "2025-07-04T06:21:48.663410Z"
    },
    "papermill": {
     "duration": 0.034501,
     "end_time": "2025-07-04T06:21:48.666017",
     "exception": false,
     "start_time": "2025-07-04T06:21:48.631516",
     "status": "completed"
    },
    "tags": []
   },
   "outputs": [
    {
     "data": {
      "text/plain": [
       "0.822"
      ]
     },
     "execution_count": 28,
     "metadata": {},
     "output_type": "execute_result"
    }
   ],
   "source": [
    "from sklearn.metrics import accuracy_score\n",
    "accuracy_score(y_test,y_pred)"
   ]
  },
  {
   "cell_type": "markdown",
   "id": "c5f66492",
   "metadata": {
    "papermill": {
     "duration": 0.024357,
     "end_time": "2025-07-04T06:21:48.715421",
     "exception": false,
     "start_time": "2025-07-04T06:21:48.691064",
     "status": "completed"
    },
    "tags": []
   },
   "source": [
    "Got the accuracy of 83.25%, hmmm still better than my 10th percentage, but let me improve it\n",
    "\n",
    "steps to improve\n",
    "1. increase the number of epochs\n",
    "2. Hidden layers activation function, relu performs better than the sigmoid\n",
    "3. Increse the nodes of hidden layer\n",
    "4. or can increase the number of hidden layers\n",
    "\n",
    "\n",
    "there is something val_accuracy which splits the X_train also => used to check the overfitting case\n",
    "but if we do more, overfitting hoggaaa"
   ]
  }
 ],
 "metadata": {
  "kaggle": {
   "accelerator": "none",
   "dataSources": [
    {
     "datasetId": 869651,
     "sourceId": 1481789,
     "sourceType": "datasetVersion"
    }
   ],
   "dockerImageVersionId": 31040,
   "isGpuEnabled": false,
   "isInternetEnabled": false,
   "language": "python",
   "sourceType": "notebook"
  },
  "kernelspec": {
   "display_name": "Python 3",
   "language": "python",
   "name": "python3"
  },
  "language_info": {
   "codemirror_mode": {
    "name": "ipython",
    "version": 3
   },
   "file_extension": ".py",
   "mimetype": "text/x-python",
   "name": "python",
   "nbconvert_exporter": "python",
   "pygments_lexer": "ipython3",
   "version": "3.11.11"
  },
  "papermill": {
   "default_parameters": {},
   "duration": 42.175905,
   "end_time": "2025-07-04T06:21:51.520214",
   "environment_variables": {},
   "exception": null,
   "input_path": "__notebook__.ipynb",
   "output_path": "__notebook__.ipynb",
   "parameters": {},
   "start_time": "2025-07-04T06:21:09.344309",
   "version": "2.6.0"
  }
 },
 "nbformat": 4,
 "nbformat_minor": 5
}
