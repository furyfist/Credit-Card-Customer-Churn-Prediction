{
 "cells": [
  {
   "cell_type": "code",
   "execution_count": 1,
   "id": "79b7361d",
   "metadata": {
    "_cell_guid": "b1076dfc-b9ad-4769-8c92-a6c4dae69d19",
    "_uuid": "8f2839f25d086af736a60e9eeb907d3b93b6e0e5",
    "execution": {
     "iopub.execute_input": "2025-07-04T06:57:00.255059Z",
     "iopub.status.busy": "2025-07-04T06:57:00.254706Z",
     "iopub.status.idle": "2025-07-04T06:57:02.291381Z",
     "shell.execute_reply": "2025-07-04T06:57:02.290259Z"
    },
    "papermill": {
     "duration": 2.046595,
     "end_time": "2025-07-04T06:57:02.293137",
     "exception": false,
     "start_time": "2025-07-04T06:57:00.246542",
     "status": "completed"
    },
    "tags": []
   },
   "outputs": [
    {
     "name": "stdout",
     "output_type": "stream",
     "text": [
      "/kaggle/input/credit-card-customer-churn-prediction/Churn_Modelling.csv\n"
     ]
    }
   ],
   "source": [
    "# This Python 3 environment comes with many helpful analytics libraries installed\n",
    "# It is defined by the kaggle/python Docker image: https://github.com/kaggle/docker-python\n",
    "# For example, here's several helpful packages to load\n",
    "\n",
    "import numpy as np # linear algebra\n",
    "import pandas as pd # data processing, CSV file I/O (e.g. pd.read_csv)\n",
    "\n",
    "# Input data files are available in the read-only \"../input/\" directory\n",
    "# For example, running this (by clicking run or pressing Shift+Enter) will list all files under the input directory\n",
    "\n",
    "import os\n",
    "for dirname, _, filenames in os.walk('/kaggle/input'):\n",
    "    for filename in filenames:\n",
    "        print(os.path.join(dirname, filename))\n",
    "\n",
    "# You can write up to 20GB to the current directory (/kaggle/working/) that gets preserved as output when you create a version using \"Save & Run All\" \n",
    "# You can also write temporary files to /kaggle/temp/, but they won't be saved outside of the current session"
   ]
  },
  {
   "cell_type": "markdown",
   "id": "e814ac78",
   "metadata": {
    "papermill": {
     "duration": 0.005754,
     "end_time": "2025-07-04T06:57:02.305343",
     "exception": false,
     "start_time": "2025-07-04T06:57:02.299589",
     "status": "completed"
    },
    "tags": []
   },
   "source": [
    "**Hiiiiiiiiiiiiiii, going to get intution about the BackPropagation through this Project**"
   ]
  },
  {
   "cell_type": "code",
   "execution_count": 2,
   "id": "7c30fdce",
   "metadata": {
    "execution": {
     "iopub.execute_input": "2025-07-04T06:57:02.318721Z",
     "iopub.status.busy": "2025-07-04T06:57:02.318290Z",
     "iopub.status.idle": "2025-07-04T06:57:02.372171Z",
     "shell.execute_reply": "2025-07-04T06:57:02.371038Z"
    },
    "papermill": {
     "duration": 0.062558,
     "end_time": "2025-07-04T06:57:02.373964",
     "exception": false,
     "start_time": "2025-07-04T06:57:02.311406",
     "status": "completed"
    },
    "tags": []
   },
   "outputs": [],
   "source": [
    "df= pd.read_csv(\"/kaggle/input/credit-card-customer-churn-prediction/Churn_Modelling.csv\")"
   ]
  },
  {
   "cell_type": "code",
   "execution_count": 3,
   "id": "7632cec1",
   "metadata": {
    "execution": {
     "iopub.execute_input": "2025-07-04T06:57:02.388463Z",
     "iopub.status.busy": "2025-07-04T06:57:02.388109Z",
     "iopub.status.idle": "2025-07-04T06:57:02.424444Z",
     "shell.execute_reply": "2025-07-04T06:57:02.423461Z"
    },
    "papermill": {
     "duration": 0.045857,
     "end_time": "2025-07-04T06:57:02.426163",
     "exception": false,
     "start_time": "2025-07-04T06:57:02.380306",
     "status": "completed"
    },
    "tags": []
   },
   "outputs": [
    {
     "data": {
      "text/html": [
       "<div>\n",
       "<style scoped>\n",
       "    .dataframe tbody tr th:only-of-type {\n",
       "        vertical-align: middle;\n",
       "    }\n",
       "\n",
       "    .dataframe tbody tr th {\n",
       "        vertical-align: top;\n",
       "    }\n",
       "\n",
       "    .dataframe thead th {\n",
       "        text-align: right;\n",
       "    }\n",
       "</style>\n",
       "<table border=\"1\" class=\"dataframe\">\n",
       "  <thead>\n",
       "    <tr style=\"text-align: right;\">\n",
       "      <th></th>\n",
       "      <th>RowNumber</th>\n",
       "      <th>CustomerId</th>\n",
       "      <th>Surname</th>\n",
       "      <th>CreditScore</th>\n",
       "      <th>Geography</th>\n",
       "      <th>Gender</th>\n",
       "      <th>Age</th>\n",
       "      <th>Tenure</th>\n",
       "      <th>Balance</th>\n",
       "      <th>NumOfProducts</th>\n",
       "      <th>HasCrCard</th>\n",
       "      <th>IsActiveMember</th>\n",
       "      <th>EstimatedSalary</th>\n",
       "      <th>Exited</th>\n",
       "    </tr>\n",
       "  </thead>\n",
       "  <tbody>\n",
       "    <tr>\n",
       "      <th>6091</th>\n",
       "      <td>6092</td>\n",
       "      <td>15777896</td>\n",
       "      <td>Chukwudi</td>\n",
       "      <td>850</td>\n",
       "      <td>Germany</td>\n",
       "      <td>Female</td>\n",
       "      <td>33</td>\n",
       "      <td>2</td>\n",
       "      <td>83415.04</td>\n",
       "      <td>1</td>\n",
       "      <td>0</td>\n",
       "      <td>1</td>\n",
       "      <td>74917.64</td>\n",
       "      <td>0</td>\n",
       "    </tr>\n",
       "    <tr>\n",
       "      <th>4668</th>\n",
       "      <td>4669</td>\n",
       "      <td>15780770</td>\n",
       "      <td>Kerr</td>\n",
       "      <td>445</td>\n",
       "      <td>France</td>\n",
       "      <td>Male</td>\n",
       "      <td>31</td>\n",
       "      <td>7</td>\n",
       "      <td>145056.59</td>\n",
       "      <td>1</td>\n",
       "      <td>1</td>\n",
       "      <td>1</td>\n",
       "      <td>175893.53</td>\n",
       "      <td>0</td>\n",
       "    </tr>\n",
       "    <tr>\n",
       "      <th>300</th>\n",
       "      <td>301</td>\n",
       "      <td>15803976</td>\n",
       "      <td>Efremov</td>\n",
       "      <td>694</td>\n",
       "      <td>France</td>\n",
       "      <td>Female</td>\n",
       "      <td>31</td>\n",
       "      <td>10</td>\n",
       "      <td>0.00</td>\n",
       "      <td>2</td>\n",
       "      <td>1</td>\n",
       "      <td>0</td>\n",
       "      <td>160990.27</td>\n",
       "      <td>0</td>\n",
       "    </tr>\n",
       "    <tr>\n",
       "      <th>5470</th>\n",
       "      <td>5471</td>\n",
       "      <td>15736124</td>\n",
       "      <td>Thompson</td>\n",
       "      <td>617</td>\n",
       "      <td>France</td>\n",
       "      <td>Male</td>\n",
       "      <td>25</td>\n",
       "      <td>1</td>\n",
       "      <td>102585.88</td>\n",
       "      <td>2</td>\n",
       "      <td>1</td>\n",
       "      <td>1</td>\n",
       "      <td>115387.40</td>\n",
       "      <td>0</td>\n",
       "    </tr>\n",
       "    <tr>\n",
       "      <th>5063</th>\n",
       "      <td>5064</td>\n",
       "      <td>15592578</td>\n",
       "      <td>Nucci</td>\n",
       "      <td>614</td>\n",
       "      <td>Spain</td>\n",
       "      <td>Female</td>\n",
       "      <td>41</td>\n",
       "      <td>7</td>\n",
       "      <td>146997.64</td>\n",
       "      <td>2</td>\n",
       "      <td>0</td>\n",
       "      <td>0</td>\n",
       "      <td>137791.18</td>\n",
       "      <td>0</td>\n",
       "    </tr>\n",
       "    <tr>\n",
       "      <th>2005</th>\n",
       "      <td>2006</td>\n",
       "      <td>15725835</td>\n",
       "      <td>West</td>\n",
       "      <td>785</td>\n",
       "      <td>Germany</td>\n",
       "      <td>Female</td>\n",
       "      <td>32</td>\n",
       "      <td>3</td>\n",
       "      <td>124493.03</td>\n",
       "      <td>2</td>\n",
       "      <td>0</td>\n",
       "      <td>1</td>\n",
       "      <td>52583.79</td>\n",
       "      <td>1</td>\n",
       "    </tr>\n",
       "    <tr>\n",
       "      <th>9991</th>\n",
       "      <td>9992</td>\n",
       "      <td>15769959</td>\n",
       "      <td>Ajuluchukwu</td>\n",
       "      <td>597</td>\n",
       "      <td>France</td>\n",
       "      <td>Female</td>\n",
       "      <td>53</td>\n",
       "      <td>4</td>\n",
       "      <td>88381.21</td>\n",
       "      <td>1</td>\n",
       "      <td>1</td>\n",
       "      <td>0</td>\n",
       "      <td>69384.71</td>\n",
       "      <td>1</td>\n",
       "    </tr>\n",
       "    <tr>\n",
       "      <th>9464</th>\n",
       "      <td>9465</td>\n",
       "      <td>15786035</td>\n",
       "      <td>Gosnell</td>\n",
       "      <td>740</td>\n",
       "      <td>France</td>\n",
       "      <td>Male</td>\n",
       "      <td>39</td>\n",
       "      <td>9</td>\n",
       "      <td>0.00</td>\n",
       "      <td>2</td>\n",
       "      <td>1</td>\n",
       "      <td>0</td>\n",
       "      <td>19047.23</td>\n",
       "      <td>0</td>\n",
       "    </tr>\n",
       "    <tr>\n",
       "      <th>1053</th>\n",
       "      <td>1054</td>\n",
       "      <td>15798348</td>\n",
       "      <td>Chukwuebuka</td>\n",
       "      <td>600</td>\n",
       "      <td>Spain</td>\n",
       "      <td>Female</td>\n",
       "      <td>50</td>\n",
       "      <td>6</td>\n",
       "      <td>94684.27</td>\n",
       "      <td>1</td>\n",
       "      <td>1</td>\n",
       "      <td>1</td>\n",
       "      <td>50488.91</td>\n",
       "      <td>0</td>\n",
       "    </tr>\n",
       "    <tr>\n",
       "      <th>8213</th>\n",
       "      <td>8214</td>\n",
       "      <td>15748352</td>\n",
       "      <td>Endrizzi</td>\n",
       "      <td>598</td>\n",
       "      <td>Spain</td>\n",
       "      <td>Male</td>\n",
       "      <td>34</td>\n",
       "      <td>0</td>\n",
       "      <td>104488.17</td>\n",
       "      <td>1</td>\n",
       "      <td>0</td>\n",
       "      <td>1</td>\n",
       "      <td>43249.67</td>\n",
       "      <td>0</td>\n",
       "    </tr>\n",
       "  </tbody>\n",
       "</table>\n",
       "</div>"
      ],
      "text/plain": [
       "      RowNumber  CustomerId      Surname  CreditScore Geography  Gender  Age  \\\n",
       "6091       6092    15777896     Chukwudi          850   Germany  Female   33   \n",
       "4668       4669    15780770         Kerr          445    France    Male   31   \n",
       "300         301    15803976      Efremov          694    France  Female   31   \n",
       "5470       5471    15736124     Thompson          617    France    Male   25   \n",
       "5063       5064    15592578        Nucci          614     Spain  Female   41   \n",
       "2005       2006    15725835         West          785   Germany  Female   32   \n",
       "9991       9992    15769959  Ajuluchukwu          597    France  Female   53   \n",
       "9464       9465    15786035      Gosnell          740    France    Male   39   \n",
       "1053       1054    15798348  Chukwuebuka          600     Spain  Female   50   \n",
       "8213       8214    15748352     Endrizzi          598     Spain    Male   34   \n",
       "\n",
       "      Tenure    Balance  NumOfProducts  HasCrCard  IsActiveMember  \\\n",
       "6091       2   83415.04              1          0               1   \n",
       "4668       7  145056.59              1          1               1   \n",
       "300       10       0.00              2          1               0   \n",
       "5470       1  102585.88              2          1               1   \n",
       "5063       7  146997.64              2          0               0   \n",
       "2005       3  124493.03              2          0               1   \n",
       "9991       4   88381.21              1          1               0   \n",
       "9464       9       0.00              2          1               0   \n",
       "1053       6   94684.27              1          1               1   \n",
       "8213       0  104488.17              1          0               1   \n",
       "\n",
       "      EstimatedSalary  Exited  \n",
       "6091         74917.64       0  \n",
       "4668        175893.53       0  \n",
       "300         160990.27       0  \n",
       "5470        115387.40       0  \n",
       "5063        137791.18       0  \n",
       "2005         52583.79       1  \n",
       "9991         69384.71       1  \n",
       "9464         19047.23       0  \n",
       "1053         50488.91       0  \n",
       "8213         43249.67       0  "
      ]
     },
     "execution_count": 3,
     "metadata": {},
     "output_type": "execute_result"
    }
   ],
   "source": [
    "df.sample(10)"
   ]
  },
  {
   "cell_type": "code",
   "execution_count": 4,
   "id": "74e65a09",
   "metadata": {
    "execution": {
     "iopub.execute_input": "2025-07-04T06:57:02.440941Z",
     "iopub.status.busy": "2025-07-04T06:57:02.439942Z",
     "iopub.status.idle": "2025-07-04T06:57:02.470776Z",
     "shell.execute_reply": "2025-07-04T06:57:02.469736Z"
    },
    "papermill": {
     "duration": 0.04014,
     "end_time": "2025-07-04T06:57:02.472808",
     "exception": false,
     "start_time": "2025-07-04T06:57:02.432668",
     "status": "completed"
    },
    "tags": []
   },
   "outputs": [
    {
     "name": "stdout",
     "output_type": "stream",
     "text": [
      "<class 'pandas.core.frame.DataFrame'>\n",
      "RangeIndex: 10000 entries, 0 to 9999\n",
      "Data columns (total 14 columns):\n",
      " #   Column           Non-Null Count  Dtype  \n",
      "---  ------           --------------  -----  \n",
      " 0   RowNumber        10000 non-null  int64  \n",
      " 1   CustomerId       10000 non-null  int64  \n",
      " 2   Surname          10000 non-null  object \n",
      " 3   CreditScore      10000 non-null  int64  \n",
      " 4   Geography        10000 non-null  object \n",
      " 5   Gender           10000 non-null  object \n",
      " 6   Age              10000 non-null  int64  \n",
      " 7   Tenure           10000 non-null  int64  \n",
      " 8   Balance          10000 non-null  float64\n",
      " 9   NumOfProducts    10000 non-null  int64  \n",
      " 10  HasCrCard        10000 non-null  int64  \n",
      " 11  IsActiveMember   10000 non-null  int64  \n",
      " 12  EstimatedSalary  10000 non-null  float64\n",
      " 13  Exited           10000 non-null  int64  \n",
      "dtypes: float64(2), int64(9), object(3)\n",
      "memory usage: 1.1+ MB\n"
     ]
    }
   ],
   "source": [
    "df.info() # ok, no null values, nice"
   ]
  },
  {
   "cell_type": "code",
   "execution_count": 5,
   "id": "d4bcbf29",
   "metadata": {
    "execution": {
     "iopub.execute_input": "2025-07-04T06:57:02.494622Z",
     "iopub.status.busy": "2025-07-04T06:57:02.494268Z",
     "iopub.status.idle": "2025-07-04T06:57:02.503053Z",
     "shell.execute_reply": "2025-07-04T06:57:02.501836Z"
    },
    "papermill": {
     "duration": 0.022586,
     "end_time": "2025-07-04T06:57:02.505115",
     "exception": false,
     "start_time": "2025-07-04T06:57:02.482529",
     "status": "completed"
    },
    "tags": []
   },
   "outputs": [
    {
     "data": {
      "text/plain": [
       "Geography\n",
       "France     5014\n",
       "Germany    2509\n",
       "Spain      2477\n",
       "Name: count, dtype: int64"
      ]
     },
     "execution_count": 5,
     "metadata": {},
     "output_type": "execute_result"
    }
   ],
   "source": [
    "df['Geography'].value_counts() # hmm only 3 countries"
   ]
  },
  {
   "cell_type": "code",
   "execution_count": 6,
   "id": "6d5d636c",
   "metadata": {
    "execution": {
     "iopub.execute_input": "2025-07-04T06:57:02.519694Z",
     "iopub.status.busy": "2025-07-04T06:57:02.519395Z",
     "iopub.status.idle": "2025-07-04T06:57:02.528569Z",
     "shell.execute_reply": "2025-07-04T06:57:02.527742Z"
    },
    "papermill": {
     "duration": 0.01819,
     "end_time": "2025-07-04T06:57:02.530145",
     "exception": false,
     "start_time": "2025-07-04T06:57:02.511955",
     "status": "completed"
    },
    "tags": []
   },
   "outputs": [
    {
     "data": {
      "text/plain": [
       "Exited\n",
       "0    7963\n",
       "1    2037\n",
       "Name: count, dtype: int64"
      ]
     },
     "execution_count": 6,
     "metadata": {},
     "output_type": "execute_result"
    }
   ],
   "source": [
    "df['Exited'].value_counts() # not a greate sign, data"
   ]
  },
  {
   "cell_type": "code",
   "execution_count": 7,
   "id": "47f5cf60",
   "metadata": {
    "execution": {
     "iopub.execute_input": "2025-07-04T06:57:02.544340Z",
     "iopub.status.busy": "2025-07-04T06:57:02.543992Z",
     "iopub.status.idle": "2025-07-04T06:57:02.550539Z",
     "shell.execute_reply": "2025-07-04T06:57:02.549505Z"
    },
    "papermill": {
     "duration": 0.015421,
     "end_time": "2025-07-04T06:57:02.552122",
     "exception": false,
     "start_time": "2025-07-04T06:57:02.536701",
     "status": "completed"
    },
    "tags": []
   },
   "outputs": [],
   "source": [
    "# dropping columns which are of no use in this analysis\n",
    "df.drop(['RowNumber', 'CustomerId', 'Surname'], axis=1,inplace=True)\n"
   ]
  },
  {
   "cell_type": "code",
   "execution_count": 8,
   "id": "b7a148c0",
   "metadata": {
    "execution": {
     "iopub.execute_input": "2025-07-04T06:57:02.567335Z",
     "iopub.status.busy": "2025-07-04T06:57:02.567007Z",
     "iopub.status.idle": "2025-07-04T06:57:02.580026Z",
     "shell.execute_reply": "2025-07-04T06:57:02.579030Z"
    },
    "papermill": {
     "duration": 0.022219,
     "end_time": "2025-07-04T06:57:02.581581",
     "exception": false,
     "start_time": "2025-07-04T06:57:02.559362",
     "status": "completed"
    },
    "tags": []
   },
   "outputs": [
    {
     "data": {
      "text/html": [
       "<div>\n",
       "<style scoped>\n",
       "    .dataframe tbody tr th:only-of-type {\n",
       "        vertical-align: middle;\n",
       "    }\n",
       "\n",
       "    .dataframe tbody tr th {\n",
       "        vertical-align: top;\n",
       "    }\n",
       "\n",
       "    .dataframe thead th {\n",
       "        text-align: right;\n",
       "    }\n",
       "</style>\n",
       "<table border=\"1\" class=\"dataframe\">\n",
       "  <thead>\n",
       "    <tr style=\"text-align: right;\">\n",
       "      <th></th>\n",
       "      <th>CreditScore</th>\n",
       "      <th>Geography</th>\n",
       "      <th>Gender</th>\n",
       "      <th>Age</th>\n",
       "      <th>Tenure</th>\n",
       "      <th>Balance</th>\n",
       "      <th>NumOfProducts</th>\n",
       "      <th>HasCrCard</th>\n",
       "      <th>IsActiveMember</th>\n",
       "      <th>EstimatedSalary</th>\n",
       "      <th>Exited</th>\n",
       "    </tr>\n",
       "  </thead>\n",
       "  <tbody>\n",
       "    <tr>\n",
       "      <th>0</th>\n",
       "      <td>619</td>\n",
       "      <td>France</td>\n",
       "      <td>Female</td>\n",
       "      <td>42</td>\n",
       "      <td>2</td>\n",
       "      <td>0.00</td>\n",
       "      <td>1</td>\n",
       "      <td>1</td>\n",
       "      <td>1</td>\n",
       "      <td>101348.88</td>\n",
       "      <td>1</td>\n",
       "    </tr>\n",
       "    <tr>\n",
       "      <th>1</th>\n",
       "      <td>608</td>\n",
       "      <td>Spain</td>\n",
       "      <td>Female</td>\n",
       "      <td>41</td>\n",
       "      <td>1</td>\n",
       "      <td>83807.86</td>\n",
       "      <td>1</td>\n",
       "      <td>0</td>\n",
       "      <td>1</td>\n",
       "      <td>112542.58</td>\n",
       "      <td>0</td>\n",
       "    </tr>\n",
       "    <tr>\n",
       "      <th>2</th>\n",
       "      <td>502</td>\n",
       "      <td>France</td>\n",
       "      <td>Female</td>\n",
       "      <td>42</td>\n",
       "      <td>8</td>\n",
       "      <td>159660.80</td>\n",
       "      <td>3</td>\n",
       "      <td>1</td>\n",
       "      <td>0</td>\n",
       "      <td>113931.57</td>\n",
       "      <td>1</td>\n",
       "    </tr>\n",
       "    <tr>\n",
       "      <th>3</th>\n",
       "      <td>699</td>\n",
       "      <td>France</td>\n",
       "      <td>Female</td>\n",
       "      <td>39</td>\n",
       "      <td>1</td>\n",
       "      <td>0.00</td>\n",
       "      <td>2</td>\n",
       "      <td>0</td>\n",
       "      <td>0</td>\n",
       "      <td>93826.63</td>\n",
       "      <td>0</td>\n",
       "    </tr>\n",
       "    <tr>\n",
       "      <th>4</th>\n",
       "      <td>850</td>\n",
       "      <td>Spain</td>\n",
       "      <td>Female</td>\n",
       "      <td>43</td>\n",
       "      <td>2</td>\n",
       "      <td>125510.82</td>\n",
       "      <td>1</td>\n",
       "      <td>1</td>\n",
       "      <td>1</td>\n",
       "      <td>79084.10</td>\n",
       "      <td>0</td>\n",
       "    </tr>\n",
       "  </tbody>\n",
       "</table>\n",
       "</div>"
      ],
      "text/plain": [
       "   CreditScore Geography  Gender  Age  Tenure    Balance  NumOfProducts  \\\n",
       "0          619    France  Female   42       2       0.00              1   \n",
       "1          608     Spain  Female   41       1   83807.86              1   \n",
       "2          502    France  Female   42       8  159660.80              3   \n",
       "3          699    France  Female   39       1       0.00              2   \n",
       "4          850     Spain  Female   43       2  125510.82              1   \n",
       "\n",
       "   HasCrCard  IsActiveMember  EstimatedSalary  Exited  \n",
       "0          1               1        101348.88       1  \n",
       "1          0               1        112542.58       0  \n",
       "2          1               0        113931.57       1  \n",
       "3          0               0         93826.63       0  \n",
       "4          1               1         79084.10       0  "
      ]
     },
     "execution_count": 8,
     "metadata": {},
     "output_type": "execute_result"
    }
   ],
   "source": [
    "df.head() # ok, took longer than expected to drop columns, was making a mistake of nor including axis=1 => By default axis=0 (row)"
   ]
  },
  {
   "cell_type": "code",
   "execution_count": 9,
   "id": "6fb29edc",
   "metadata": {
    "execution": {
     "iopub.execute_input": "2025-07-04T06:57:02.596404Z",
     "iopub.status.busy": "2025-07-04T06:57:02.596120Z",
     "iopub.status.idle": "2025-07-04T06:57:02.602242Z",
     "shell.execute_reply": "2025-07-04T06:57:02.601236Z"
    },
    "papermill": {
     "duration": 0.015085,
     "end_time": "2025-07-04T06:57:02.603806",
     "exception": false,
     "start_time": "2025-07-04T06:57:02.588721",
     "status": "completed"
    },
    "tags": []
   },
   "outputs": [
    {
     "data": {
      "text/plain": [
       "(10000, 11)"
      ]
     },
     "execution_count": 9,
     "metadata": {},
     "output_type": "execute_result"
    }
   ],
   "source": [
    "df.shape\n"
   ]
  },
  {
   "cell_type": "code",
   "execution_count": 10,
   "id": "43c23e3e",
   "metadata": {
    "execution": {
     "iopub.execute_input": "2025-07-04T06:57:02.619704Z",
     "iopub.status.busy": "2025-07-04T06:57:02.619350Z",
     "iopub.status.idle": "2025-07-04T06:57:02.632799Z",
     "shell.execute_reply": "2025-07-04T06:57:02.631925Z"
    },
    "papermill": {
     "duration": 0.023252,
     "end_time": "2025-07-04T06:57:02.634385",
     "exception": false,
     "start_time": "2025-07-04T06:57:02.611133",
     "status": "completed"
    },
    "tags": []
   },
   "outputs": [
    {
     "name": "stdout",
     "output_type": "stream",
     "text": [
      "<class 'pandas.core.frame.DataFrame'>\n",
      "RangeIndex: 10000 entries, 0 to 9999\n",
      "Data columns (total 11 columns):\n",
      " #   Column           Non-Null Count  Dtype  \n",
      "---  ------           --------------  -----  \n",
      " 0   CreditScore      10000 non-null  int64  \n",
      " 1   Geography        10000 non-null  object \n",
      " 2   Gender           10000 non-null  object \n",
      " 3   Age              10000 non-null  int64  \n",
      " 4   Tenure           10000 non-null  int64  \n",
      " 5   Balance          10000 non-null  float64\n",
      " 6   NumOfProducts    10000 non-null  int64  \n",
      " 7   HasCrCard        10000 non-null  int64  \n",
      " 8   IsActiveMember   10000 non-null  int64  \n",
      " 9   EstimatedSalary  10000 non-null  float64\n",
      " 10  Exited           10000 non-null  int64  \n",
      "dtypes: float64(2), int64(7), object(2)\n",
      "memory usage: 859.5+ KB\n"
     ]
    }
   ],
   "source": [
    "df.info()"
   ]
  },
  {
   "cell_type": "code",
   "execution_count": 11,
   "id": "2f69edaa",
   "metadata": {
    "execution": {
     "iopub.execute_input": "2025-07-04T06:57:02.649851Z",
     "iopub.status.busy": "2025-07-04T06:57:02.649525Z",
     "iopub.status.idle": "2025-07-04T06:57:02.661065Z",
     "shell.execute_reply": "2025-07-04T06:57:02.660169Z"
    },
    "papermill": {
     "duration": 0.02087,
     "end_time": "2025-07-04T06:57:02.662649",
     "exception": false,
     "start_time": "2025-07-04T06:57:02.641779",
     "status": "completed"
    },
    "tags": []
   },
   "outputs": [],
   "source": [
    "# here we need to trasform (One-hot-encode) the categorical data into numerical for analysis\n",
    "df = pd.get_dummies(df,columns=['Geography','Gender'], drop_first=True )\n",
    "\n",
    "# see here what we did is, converted them in mumerical also, we did drop_first = true => which means one columns drops, for eq. Gender have 2 Categories so one is represented as 1 and other as 0;"
   ]
  },
  {
   "cell_type": "code",
   "execution_count": 12,
   "id": "64d9f9d2",
   "metadata": {
    "execution": {
     "iopub.execute_input": "2025-07-04T06:57:02.677873Z",
     "iopub.status.busy": "2025-07-04T06:57:02.677551Z",
     "iopub.status.idle": "2025-07-04T06:57:02.691822Z",
     "shell.execute_reply": "2025-07-04T06:57:02.690993Z"
    },
    "papermill": {
     "duration": 0.023544,
     "end_time": "2025-07-04T06:57:02.693471",
     "exception": false,
     "start_time": "2025-07-04T06:57:02.669927",
     "status": "completed"
    },
    "tags": []
   },
   "outputs": [
    {
     "data": {
      "text/html": [
       "<div>\n",
       "<style scoped>\n",
       "    .dataframe tbody tr th:only-of-type {\n",
       "        vertical-align: middle;\n",
       "    }\n",
       "\n",
       "    .dataframe tbody tr th {\n",
       "        vertical-align: top;\n",
       "    }\n",
       "\n",
       "    .dataframe thead th {\n",
       "        text-align: right;\n",
       "    }\n",
       "</style>\n",
       "<table border=\"1\" class=\"dataframe\">\n",
       "  <thead>\n",
       "    <tr style=\"text-align: right;\">\n",
       "      <th></th>\n",
       "      <th>CreditScore</th>\n",
       "      <th>Age</th>\n",
       "      <th>Tenure</th>\n",
       "      <th>Balance</th>\n",
       "      <th>NumOfProducts</th>\n",
       "      <th>HasCrCard</th>\n",
       "      <th>IsActiveMember</th>\n",
       "      <th>EstimatedSalary</th>\n",
       "      <th>Exited</th>\n",
       "      <th>Geography_Germany</th>\n",
       "      <th>Geography_Spain</th>\n",
       "      <th>Gender_Male</th>\n",
       "    </tr>\n",
       "  </thead>\n",
       "  <tbody>\n",
       "    <tr>\n",
       "      <th>0</th>\n",
       "      <td>619</td>\n",
       "      <td>42</td>\n",
       "      <td>2</td>\n",
       "      <td>0.00</td>\n",
       "      <td>1</td>\n",
       "      <td>1</td>\n",
       "      <td>1</td>\n",
       "      <td>101348.88</td>\n",
       "      <td>1</td>\n",
       "      <td>False</td>\n",
       "      <td>False</td>\n",
       "      <td>False</td>\n",
       "    </tr>\n",
       "    <tr>\n",
       "      <th>1</th>\n",
       "      <td>608</td>\n",
       "      <td>41</td>\n",
       "      <td>1</td>\n",
       "      <td>83807.86</td>\n",
       "      <td>1</td>\n",
       "      <td>0</td>\n",
       "      <td>1</td>\n",
       "      <td>112542.58</td>\n",
       "      <td>0</td>\n",
       "      <td>False</td>\n",
       "      <td>True</td>\n",
       "      <td>False</td>\n",
       "    </tr>\n",
       "    <tr>\n",
       "      <th>2</th>\n",
       "      <td>502</td>\n",
       "      <td>42</td>\n",
       "      <td>8</td>\n",
       "      <td>159660.80</td>\n",
       "      <td>3</td>\n",
       "      <td>1</td>\n",
       "      <td>0</td>\n",
       "      <td>113931.57</td>\n",
       "      <td>1</td>\n",
       "      <td>False</td>\n",
       "      <td>False</td>\n",
       "      <td>False</td>\n",
       "    </tr>\n",
       "    <tr>\n",
       "      <th>3</th>\n",
       "      <td>699</td>\n",
       "      <td>39</td>\n",
       "      <td>1</td>\n",
       "      <td>0.00</td>\n",
       "      <td>2</td>\n",
       "      <td>0</td>\n",
       "      <td>0</td>\n",
       "      <td>93826.63</td>\n",
       "      <td>0</td>\n",
       "      <td>False</td>\n",
       "      <td>False</td>\n",
       "      <td>False</td>\n",
       "    </tr>\n",
       "    <tr>\n",
       "      <th>4</th>\n",
       "      <td>850</td>\n",
       "      <td>43</td>\n",
       "      <td>2</td>\n",
       "      <td>125510.82</td>\n",
       "      <td>1</td>\n",
       "      <td>1</td>\n",
       "      <td>1</td>\n",
       "      <td>79084.10</td>\n",
       "      <td>0</td>\n",
       "      <td>False</td>\n",
       "      <td>True</td>\n",
       "      <td>False</td>\n",
       "    </tr>\n",
       "  </tbody>\n",
       "</table>\n",
       "</div>"
      ],
      "text/plain": [
       "   CreditScore  Age  Tenure    Balance  NumOfProducts  HasCrCard  \\\n",
       "0          619   42       2       0.00              1          1   \n",
       "1          608   41       1   83807.86              1          0   \n",
       "2          502   42       8  159660.80              3          1   \n",
       "3          699   39       1       0.00              2          0   \n",
       "4          850   43       2  125510.82              1          1   \n",
       "\n",
       "   IsActiveMember  EstimatedSalary  Exited  Geography_Germany  \\\n",
       "0               1        101348.88       1              False   \n",
       "1               1        112542.58       0              False   \n",
       "2               0        113931.57       1              False   \n",
       "3               0         93826.63       0              False   \n",
       "4               1         79084.10       0              False   \n",
       "\n",
       "   Geography_Spain  Gender_Male  \n",
       "0            False        False  \n",
       "1             True        False  \n",
       "2            False        False  \n",
       "3            False        False  \n",
       "4             True        False  "
      ]
     },
     "execution_count": 12,
     "metadata": {},
     "output_type": "execute_result"
    }
   ],
   "source": [
    "df.head()"
   ]
  },
  {
   "cell_type": "markdown",
   "id": "db1b5be2",
   "metadata": {
    "papermill": {
     "duration": 0.006512,
     "end_time": "2025-07-04T06:57:02.706980",
     "exception": false,
     "start_time": "2025-07-04T06:57:02.700468",
     "status": "completed"
    },
    "tags": []
   },
   "source": [
    "Here we got another problem, the values are not in one scale which will effect on converging the Data due to the randoms weights between neurons"
   ]
  },
  {
   "cell_type": "code",
   "execution_count": 13,
   "id": "8e97d11e",
   "metadata": {
    "execution": {
     "iopub.execute_input": "2025-07-04T06:57:02.722681Z",
     "iopub.status.busy": "2025-07-04T06:57:02.722354Z",
     "iopub.status.idle": "2025-07-04T06:57:04.360667Z",
     "shell.execute_reply": "2025-07-04T06:57:04.359589Z"
    },
    "papermill": {
     "duration": 1.648697,
     "end_time": "2025-07-04T06:57:04.362500",
     "exception": false,
     "start_time": "2025-07-04T06:57:02.713803",
     "status": "completed"
    },
    "tags": []
   },
   "outputs": [],
   "source": [
    "X = df.drop(columns=['Exited'])\n",
    "y= df['Exited']\n",
    "\n",
    "from sklearn.model_selection import train_test_split\n",
    "X_train,X_test,y_train,y_test = train_test_split(X,y,test_size=0.2, random_state=42)"
   ]
  },
  {
   "cell_type": "code",
   "execution_count": 14,
   "id": "0dfdd991",
   "metadata": {
    "execution": {
     "iopub.execute_input": "2025-07-04T06:57:04.378501Z",
     "iopub.status.busy": "2025-07-04T06:57:04.378029Z",
     "iopub.status.idle": "2025-07-04T06:57:04.386337Z",
     "shell.execute_reply": "2025-07-04T06:57:04.385162Z"
    },
    "papermill": {
     "duration": 0.018305,
     "end_time": "2025-07-04T06:57:04.388094",
     "exception": false,
     "start_time": "2025-07-04T06:57:04.369789",
     "status": "completed"
    },
    "tags": []
   },
   "outputs": [
    {
     "data": {
      "text/plain": [
       "0       1\n",
       "1       0\n",
       "2       1\n",
       "3       0\n",
       "4       0\n",
       "       ..\n",
       "9995    0\n",
       "9996    0\n",
       "9997    1\n",
       "9998    1\n",
       "9999    0\n",
       "Name: Exited, Length: 10000, dtype: int64"
      ]
     },
     "execution_count": 14,
     "metadata": {},
     "output_type": "execute_result"
    }
   ],
   "source": [
    "y\n"
   ]
  },
  {
   "cell_type": "code",
   "execution_count": 15,
   "id": "046f352a",
   "metadata": {
    "execution": {
     "iopub.execute_input": "2025-07-04T06:57:04.404191Z",
     "iopub.status.busy": "2025-07-04T06:57:04.403795Z",
     "iopub.status.idle": "2025-07-04T06:57:04.433132Z",
     "shell.execute_reply": "2025-07-04T06:57:04.432017Z"
    },
    "papermill": {
     "duration": 0.039716,
     "end_time": "2025-07-04T06:57:04.435019",
     "exception": false,
     "start_time": "2025-07-04T06:57:04.395303",
     "status": "completed"
    },
    "tags": []
   },
   "outputs": [],
   "source": [
    "from sklearn.preprocessing import StandardScaler\n",
    "scaler = StandardScaler()\n",
    "\n",
    "X_train_scaled = scaler.fit_transform(X_train)\n",
    "X_test_scaled = scaler.transform(X_test)"
   ]
  },
  {
   "cell_type": "code",
   "execution_count": 16,
   "id": "8caf7e60",
   "metadata": {
    "execution": {
     "iopub.execute_input": "2025-07-04T06:57:04.451090Z",
     "iopub.status.busy": "2025-07-04T06:57:04.450721Z",
     "iopub.status.idle": "2025-07-04T06:57:04.457629Z",
     "shell.execute_reply": "2025-07-04T06:57:04.456760Z"
    },
    "papermill": {
     "duration": 0.016917,
     "end_time": "2025-07-04T06:57:04.459211",
     "exception": false,
     "start_time": "2025-07-04T06:57:04.442294",
     "status": "completed"
    },
    "tags": []
   },
   "outputs": [
    {
     "data": {
      "text/plain": [
       "array([[ 0.35649971, -0.6557859 ,  0.34567966, ..., -0.57946723,\n",
       "        -0.57638802,  0.91324755],\n",
       "       [-0.20389777,  0.29493847, -0.3483691 , ...,  1.72572313,\n",
       "        -0.57638802,  0.91324755],\n",
       "       [-0.96147213, -1.41636539, -0.69539349, ..., -0.57946723,\n",
       "         1.73494238,  0.91324755],\n",
       "       ...,\n",
       "       [ 0.86500853, -0.08535128, -1.38944225, ..., -0.57946723,\n",
       "        -0.57638802, -1.09499335],\n",
       "       [ 0.15932282,  0.3900109 ,  1.03972843, ..., -0.57946723,\n",
       "        -0.57638802,  0.91324755],\n",
       "       [ 0.47065475,  1.15059039, -1.38944225, ...,  1.72572313,\n",
       "        -0.57638802,  0.91324755]])"
      ]
     },
     "execution_count": 16,
     "metadata": {},
     "output_type": "execute_result"
    }
   ],
   "source": [
    "X_train_scaled # uff it looks scary, it transforms all the 10k rows at one scale \n"
   ]
  },
  {
   "cell_type": "code",
   "execution_count": 17,
   "id": "a43eaf31",
   "metadata": {
    "execution": {
     "iopub.execute_input": "2025-07-04T06:57:04.475513Z",
     "iopub.status.busy": "2025-07-04T06:57:04.475158Z",
     "iopub.status.idle": "2025-07-04T06:57:22.788887Z",
     "shell.execute_reply": "2025-07-04T06:57:22.787664Z"
    },
    "papermill": {
     "duration": 18.324615,
     "end_time": "2025-07-04T06:57:22.791180",
     "exception": false,
     "start_time": "2025-07-04T06:57:04.466565",
     "status": "completed"
    },
    "tags": []
   },
   "outputs": [
    {
     "name": "stderr",
     "output_type": "stream",
     "text": [
      "2025-07-04 06:57:06.805809: E external/local_xla/xla/stream_executor/cuda/cuda_fft.cc:477] Unable to register cuFFT factory: Attempting to register factory for plugin cuFFT when one has already been registered\n",
      "WARNING: All log messages before absl::InitializeLog() is called are written to STDERR\n",
      "E0000 00:00:1751612227.087172      13 cuda_dnn.cc:8310] Unable to register cuDNN factory: Attempting to register factory for plugin cuDNN when one has already been registered\n",
      "E0000 00:00:1751612227.187400      13 cuda_blas.cc:1418] Unable to register cuBLAS factory: Attempting to register factory for plugin cuBLAS when one has already been registered\n"
     ]
    }
   ],
   "source": [
    "import tensorflow\n",
    "from tensorflow import keras\n",
    "from tensorflow.keras import Sequential \n",
    "from tensorflow.keras.layers import Dense, Input"
   ]
  },
  {
   "cell_type": "markdown",
   "id": "d84bb7e6",
   "metadata": {
    "papermill": {
     "duration": 0.007999,
     "end_time": "2025-07-04T06:57:22.806858",
     "exception": false,
     "start_time": "2025-07-04T06:57:22.798859",
     "status": "completed"
    },
    "tags": []
   },
   "source": [
    "Now we are going to Build Sequential Model"
   ]
  },
  {
   "cell_type": "code",
   "execution_count": 18,
   "id": "3e1fccfa",
   "metadata": {
    "execution": {
     "iopub.execute_input": "2025-07-04T06:57:22.823101Z",
     "iopub.status.busy": "2025-07-04T06:57:22.822431Z",
     "iopub.status.idle": "2025-07-04T06:57:22.930405Z",
     "shell.execute_reply": "2025-07-04T06:57:22.929435Z"
    },
    "papermill": {
     "duration": 0.117949,
     "end_time": "2025-07-04T06:57:22.931937",
     "exception": false,
     "start_time": "2025-07-04T06:57:22.813988",
     "status": "completed"
    },
    "tags": []
   },
   "outputs": [
    {
     "name": "stderr",
     "output_type": "stream",
     "text": [
      "2025-07-04 06:57:22.835158: E external/local_xla/xla/stream_executor/cuda/cuda_driver.cc:152] failed call to cuInit: INTERNAL: CUDA error: Failed call to cuInit: UNKNOWN ERROR (303)\n"
     ]
    }
   ],
   "source": [
    "model = Sequential()\n",
    "\n",
    "# for now we will have one input layer, one hidden layer and one output layer\n",
    "# will put 3 perceptron in hidden layer\n",
    "\n",
    "\n",
    "# Add input layer + hidden layer (3 neurons, sigmoid)\n",
    "model.add(Input(shape=(11,)))\n",
    "model.add(Dense(11, activation='relu'))\n",
    "model.add(Dense(5, activation='sigmoid'))\n",
    "\n",
    "# Add output layer (1 neuron, sigmoid)\n",
    "model.add(Dense(1, activation='sigmoid'))"
   ]
  },
  {
   "cell_type": "code",
   "execution_count": 19,
   "id": "ecd4ea18",
   "metadata": {
    "execution": {
     "iopub.execute_input": "2025-07-04T06:57:22.950938Z",
     "iopub.status.busy": "2025-07-04T06:57:22.950529Z",
     "iopub.status.idle": "2025-07-04T06:57:22.967744Z",
     "shell.execute_reply": "2025-07-04T06:57:22.966826Z"
    },
    "papermill": {
     "duration": 0.029767,
     "end_time": "2025-07-04T06:57:22.969320",
     "exception": false,
     "start_time": "2025-07-04T06:57:22.939553",
     "status": "completed"
    },
    "tags": []
   },
   "outputs": [
    {
     "data": {
      "text/html": [
       "<pre style=\"white-space:pre;overflow-x:auto;line-height:normal;font-family:Menlo,'DejaVu Sans Mono',consolas,'Courier New',monospace\"><span style=\"font-weight: bold\">Model: \"sequential\"</span>\n",
       "</pre>\n"
      ],
      "text/plain": [
       "\u001b[1mModel: \"sequential\"\u001b[0m\n"
      ]
     },
     "metadata": {},
     "output_type": "display_data"
    },
    {
     "data": {
      "text/html": [
       "<pre style=\"white-space:pre;overflow-x:auto;line-height:normal;font-family:Menlo,'DejaVu Sans Mono',consolas,'Courier New',monospace\">┏━━━━━━━━━━━━━━━━━━━━━━━━━━━━━━━━━━━━━━┳━━━━━━━━━━━━━━━━━━━━━━━━━━━━━┳━━━━━━━━━━━━━━━━━┓\n",
       "┃<span style=\"font-weight: bold\"> Layer (type)                         </span>┃<span style=\"font-weight: bold\"> Output Shape                </span>┃<span style=\"font-weight: bold\">         Param # </span>┃\n",
       "┡━━━━━━━━━━━━━━━━━━━━━━━━━━━━━━━━━━━━━━╇━━━━━━━━━━━━━━━━━━━━━━━━━━━━━╇━━━━━━━━━━━━━━━━━┩\n",
       "│ dense (<span style=\"color: #0087ff; text-decoration-color: #0087ff\">Dense</span>)                        │ (<span style=\"color: #00d7ff; text-decoration-color: #00d7ff\">None</span>, <span style=\"color: #00af00; text-decoration-color: #00af00\">11</span>)                  │             <span style=\"color: #00af00; text-decoration-color: #00af00\">132</span> │\n",
       "├──────────────────────────────────────┼─────────────────────────────┼─────────────────┤\n",
       "│ dense_1 (<span style=\"color: #0087ff; text-decoration-color: #0087ff\">Dense</span>)                      │ (<span style=\"color: #00d7ff; text-decoration-color: #00d7ff\">None</span>, <span style=\"color: #00af00; text-decoration-color: #00af00\">5</span>)                   │              <span style=\"color: #00af00; text-decoration-color: #00af00\">60</span> │\n",
       "├──────────────────────────────────────┼─────────────────────────────┼─────────────────┤\n",
       "│ dense_2 (<span style=\"color: #0087ff; text-decoration-color: #0087ff\">Dense</span>)                      │ (<span style=\"color: #00d7ff; text-decoration-color: #00d7ff\">None</span>, <span style=\"color: #00af00; text-decoration-color: #00af00\">1</span>)                   │               <span style=\"color: #00af00; text-decoration-color: #00af00\">6</span> │\n",
       "└──────────────────────────────────────┴─────────────────────────────┴─────────────────┘\n",
       "</pre>\n"
      ],
      "text/plain": [
       "┏━━━━━━━━━━━━━━━━━━━━━━━━━━━━━━━━━━━━━━┳━━━━━━━━━━━━━━━━━━━━━━━━━━━━━┳━━━━━━━━━━━━━━━━━┓\n",
       "┃\u001b[1m \u001b[0m\u001b[1mLayer (type)                        \u001b[0m\u001b[1m \u001b[0m┃\u001b[1m \u001b[0m\u001b[1mOutput Shape               \u001b[0m\u001b[1m \u001b[0m┃\u001b[1m \u001b[0m\u001b[1m        Param #\u001b[0m\u001b[1m \u001b[0m┃\n",
       "┡━━━━━━━━━━━━━━━━━━━━━━━━━━━━━━━━━━━━━━╇━━━━━━━━━━━━━━━━━━━━━━━━━━━━━╇━━━━━━━━━━━━━━━━━┩\n",
       "│ dense (\u001b[38;5;33mDense\u001b[0m)                        │ (\u001b[38;5;45mNone\u001b[0m, \u001b[38;5;34m11\u001b[0m)                  │             \u001b[38;5;34m132\u001b[0m │\n",
       "├──────────────────────────────────────┼─────────────────────────────┼─────────────────┤\n",
       "│ dense_1 (\u001b[38;5;33mDense\u001b[0m)                      │ (\u001b[38;5;45mNone\u001b[0m, \u001b[38;5;34m5\u001b[0m)                   │              \u001b[38;5;34m60\u001b[0m │\n",
       "├──────────────────────────────────────┼─────────────────────────────┼─────────────────┤\n",
       "│ dense_2 (\u001b[38;5;33mDense\u001b[0m)                      │ (\u001b[38;5;45mNone\u001b[0m, \u001b[38;5;34m1\u001b[0m)                   │               \u001b[38;5;34m6\u001b[0m │\n",
       "└──────────────────────────────────────┴─────────────────────────────┴─────────────────┘\n"
      ]
     },
     "metadata": {},
     "output_type": "display_data"
    },
    {
     "data": {
      "text/html": [
       "<pre style=\"white-space:pre;overflow-x:auto;line-height:normal;font-family:Menlo,'DejaVu Sans Mono',consolas,'Courier New',monospace\"><span style=\"font-weight: bold\"> Total params: </span><span style=\"color: #00af00; text-decoration-color: #00af00\">198</span> (792.00 B)\n",
       "</pre>\n"
      ],
      "text/plain": [
       "\u001b[1m Total params: \u001b[0m\u001b[38;5;34m198\u001b[0m (792.00 B)\n"
      ]
     },
     "metadata": {},
     "output_type": "display_data"
    },
    {
     "data": {
      "text/html": [
       "<pre style=\"white-space:pre;overflow-x:auto;line-height:normal;font-family:Menlo,'DejaVu Sans Mono',consolas,'Courier New',monospace\"><span style=\"font-weight: bold\"> Trainable params: </span><span style=\"color: #00af00; text-decoration-color: #00af00\">198</span> (792.00 B)\n",
       "</pre>\n"
      ],
      "text/plain": [
       "\u001b[1m Trainable params: \u001b[0m\u001b[38;5;34m198\u001b[0m (792.00 B)\n"
      ]
     },
     "metadata": {},
     "output_type": "display_data"
    },
    {
     "data": {
      "text/html": [
       "<pre style=\"white-space:pre;overflow-x:auto;line-height:normal;font-family:Menlo,'DejaVu Sans Mono',consolas,'Courier New',monospace\"><span style=\"font-weight: bold\"> Non-trainable params: </span><span style=\"color: #00af00; text-decoration-color: #00af00\">0</span> (0.00 B)\n",
       "</pre>\n"
      ],
      "text/plain": [
       "\u001b[1m Non-trainable params: \u001b[0m\u001b[38;5;34m0\u001b[0m (0.00 B)\n"
      ]
     },
     "metadata": {},
     "output_type": "display_data"
    }
   ],
   "source": [
    "model.summary()"
   ]
  },
  {
   "cell_type": "code",
   "execution_count": 20,
   "id": "5f7af19d",
   "metadata": {
    "execution": {
     "iopub.execute_input": "2025-07-04T06:57:22.986544Z",
     "iopub.status.busy": "2025-07-04T06:57:22.986258Z",
     "iopub.status.idle": "2025-07-04T06:57:23.003462Z",
     "shell.execute_reply": "2025-07-04T06:57:23.002299Z"
    },
    "papermill": {
     "duration": 0.027708,
     "end_time": "2025-07-04T06:57:23.005156",
     "exception": false,
     "start_time": "2025-07-04T06:57:22.977448",
     "status": "completed"
    },
    "tags": []
   },
   "outputs": [],
   "source": [
    "model.compile(loss='binary_crossentropy',optimizer='adam', metrics=['accuracy'])"
   ]
  },
  {
   "cell_type": "code",
   "execution_count": 21,
   "id": "6652743c",
   "metadata": {
    "execution": {
     "iopub.execute_input": "2025-07-04T06:57:23.022421Z",
     "iopub.status.busy": "2025-07-04T06:57:23.021875Z",
     "iopub.status.idle": "2025-07-04T06:58:21.034231Z",
     "shell.execute_reply": "2025-07-04T06:58:21.033200Z"
    },
    "papermill": {
     "duration": 58.022848,
     "end_time": "2025-07-04T06:58:21.036032",
     "exception": false,
     "start_time": "2025-07-04T06:57:23.013184",
     "status": "completed"
    },
    "tags": []
   },
   "outputs": [
    {
     "name": "stdout",
     "output_type": "stream",
     "text": [
      "Epoch 1/100\n",
      "\u001b[1m200/200\u001b[0m \u001b[32m━━━━━━━━━━━━━━━━━━━━\u001b[0m\u001b[37m\u001b[0m \u001b[1m3s\u001b[0m 4ms/step - accuracy: 0.6816 - loss: 0.6241 - val_accuracy: 0.7987 - val_loss: 0.4939\n",
      "Epoch 2/100\n",
      "\u001b[1m200/200\u001b[0m \u001b[32m━━━━━━━━━━━━━━━━━━━━\u001b[0m\u001b[37m\u001b[0m \u001b[1m1s\u001b[0m 3ms/step - accuracy: 0.7994 - loss: 0.4856 - val_accuracy: 0.8006 - val_loss: 0.4497\n",
      "Epoch 3/100\n",
      "\u001b[1m200/200\u001b[0m \u001b[32m━━━━━━━━━━━━━━━━━━━━\u001b[0m\u001b[37m\u001b[0m \u001b[1m1s\u001b[0m 3ms/step - accuracy: 0.7965 - loss: 0.4524 - val_accuracy: 0.8175 - val_loss: 0.4286\n",
      "Epoch 4/100\n",
      "\u001b[1m200/200\u001b[0m \u001b[32m━━━━━━━━━━━━━━━━━━━━\u001b[0m\u001b[37m\u001b[0m \u001b[1m1s\u001b[0m 3ms/step - accuracy: 0.8136 - loss: 0.4304 - val_accuracy: 0.8256 - val_loss: 0.4175\n",
      "Epoch 5/100\n",
      "\u001b[1m200/200\u001b[0m \u001b[32m━━━━━━━━━━━━━━━━━━━━\u001b[0m\u001b[37m\u001b[0m \u001b[1m1s\u001b[0m 3ms/step - accuracy: 0.8215 - loss: 0.4199 - val_accuracy: 0.8288 - val_loss: 0.4099\n",
      "Epoch 6/100\n",
      "\u001b[1m200/200\u001b[0m \u001b[32m━━━━━━━━━━━━━━━━━━━━\u001b[0m\u001b[37m\u001b[0m \u001b[1m1s\u001b[0m 3ms/step - accuracy: 0.8215 - loss: 0.4156 - val_accuracy: 0.8300 - val_loss: 0.4051\n",
      "Epoch 7/100\n",
      "\u001b[1m200/200\u001b[0m \u001b[32m━━━━━━━━━━━━━━━━━━━━\u001b[0m\u001b[37m\u001b[0m \u001b[1m1s\u001b[0m 3ms/step - accuracy: 0.8200 - loss: 0.4171 - val_accuracy: 0.8325 - val_loss: 0.4005\n",
      "Epoch 8/100\n",
      "\u001b[1m200/200\u001b[0m \u001b[32m━━━━━━━━━━━━━━━━━━━━\u001b[0m\u001b[37m\u001b[0m \u001b[1m1s\u001b[0m 3ms/step - accuracy: 0.8176 - loss: 0.4208 - val_accuracy: 0.8350 - val_loss: 0.3965\n",
      "Epoch 9/100\n",
      "\u001b[1m200/200\u001b[0m \u001b[32m━━━━━━━━━━━━━━━━━━━━\u001b[0m\u001b[37m\u001b[0m \u001b[1m1s\u001b[0m 3ms/step - accuracy: 0.8243 - loss: 0.4094 - val_accuracy: 0.8388 - val_loss: 0.3924\n",
      "Epoch 10/100\n",
      "\u001b[1m200/200\u001b[0m \u001b[32m━━━━━━━━━━━━━━━━━━━━\u001b[0m\u001b[37m\u001b[0m \u001b[1m1s\u001b[0m 3ms/step - accuracy: 0.8443 - loss: 0.3888 - val_accuracy: 0.8413 - val_loss: 0.3885\n",
      "Epoch 11/100\n",
      "\u001b[1m200/200\u001b[0m \u001b[32m━━━━━━━━━━━━━━━━━━━━\u001b[0m\u001b[37m\u001b[0m \u001b[1m1s\u001b[0m 3ms/step - accuracy: 0.8367 - loss: 0.3904 - val_accuracy: 0.8444 - val_loss: 0.3836\n",
      "Epoch 12/100\n",
      "\u001b[1m200/200\u001b[0m \u001b[32m━━━━━━━━━━━━━━━━━━━━\u001b[0m\u001b[37m\u001b[0m \u001b[1m1s\u001b[0m 3ms/step - accuracy: 0.8370 - loss: 0.3894 - val_accuracy: 0.8425 - val_loss: 0.3793\n",
      "Epoch 13/100\n",
      "\u001b[1m200/200\u001b[0m \u001b[32m━━━━━━━━━━━━━━━━━━━━\u001b[0m\u001b[37m\u001b[0m \u001b[1m1s\u001b[0m 3ms/step - accuracy: 0.8370 - loss: 0.3876 - val_accuracy: 0.8475 - val_loss: 0.3742\n",
      "Epoch 14/100\n",
      "\u001b[1m200/200\u001b[0m \u001b[32m━━━━━━━━━━━━━━━━━━━━\u001b[0m\u001b[37m\u001b[0m \u001b[1m1s\u001b[0m 3ms/step - accuracy: 0.8398 - loss: 0.3804 - val_accuracy: 0.8469 - val_loss: 0.3705\n",
      "Epoch 15/100\n",
      "\u001b[1m200/200\u001b[0m \u001b[32m━━━━━━━━━━━━━━━━━━━━\u001b[0m\u001b[37m\u001b[0m \u001b[1m1s\u001b[0m 3ms/step - accuracy: 0.8513 - loss: 0.3681 - val_accuracy: 0.8525 - val_loss: 0.3661\n",
      "Epoch 16/100\n",
      "\u001b[1m200/200\u001b[0m \u001b[32m━━━━━━━━━━━━━━━━━━━━\u001b[0m\u001b[37m\u001b[0m \u001b[1m1s\u001b[0m 3ms/step - accuracy: 0.8501 - loss: 0.3719 - val_accuracy: 0.8512 - val_loss: 0.3633\n",
      "Epoch 17/100\n",
      "\u001b[1m200/200\u001b[0m \u001b[32m━━━━━━━━━━━━━━━━━━━━\u001b[0m\u001b[37m\u001b[0m \u001b[1m1s\u001b[0m 3ms/step - accuracy: 0.8535 - loss: 0.3713 - val_accuracy: 0.8537 - val_loss: 0.3609\n",
      "Epoch 18/100\n",
      "\u001b[1m200/200\u001b[0m \u001b[32m━━━━━━━━━━━━━━━━━━━━\u001b[0m\u001b[37m\u001b[0m \u001b[1m1s\u001b[0m 2ms/step - accuracy: 0.8530 - loss: 0.3612 - val_accuracy: 0.8537 - val_loss: 0.3582\n",
      "Epoch 19/100\n",
      "\u001b[1m200/200\u001b[0m \u001b[32m━━━━━━━━━━━━━━━━━━━━\u001b[0m\u001b[37m\u001b[0m \u001b[1m1s\u001b[0m 3ms/step - accuracy: 0.8567 - loss: 0.3599 - val_accuracy: 0.8569 - val_loss: 0.3564\n",
      "Epoch 20/100\n",
      "\u001b[1m200/200\u001b[0m \u001b[32m━━━━━━━━━━━━━━━━━━━━\u001b[0m\u001b[37m\u001b[0m \u001b[1m1s\u001b[0m 3ms/step - accuracy: 0.8603 - loss: 0.3595 - val_accuracy: 0.8594 - val_loss: 0.3546\n",
      "Epoch 21/100\n",
      "\u001b[1m200/200\u001b[0m \u001b[32m━━━━━━━━━━━━━━━━━━━━\u001b[0m\u001b[37m\u001b[0m \u001b[1m1s\u001b[0m 3ms/step - accuracy: 0.8606 - loss: 0.3568 - val_accuracy: 0.8569 - val_loss: 0.3535\n",
      "Epoch 22/100\n",
      "\u001b[1m200/200\u001b[0m \u001b[32m━━━━━━━━━━━━━━━━━━━━\u001b[0m\u001b[37m\u001b[0m \u001b[1m1s\u001b[0m 3ms/step - accuracy: 0.8582 - loss: 0.3533 - val_accuracy: 0.8581 - val_loss: 0.3526\n",
      "Epoch 23/100\n",
      "\u001b[1m200/200\u001b[0m \u001b[32m━━━━━━━━━━━━━━━━━━━━\u001b[0m\u001b[37m\u001b[0m \u001b[1m1s\u001b[0m 3ms/step - accuracy: 0.8624 - loss: 0.3451 - val_accuracy: 0.8594 - val_loss: 0.3515\n",
      "Epoch 24/100\n",
      "\u001b[1m200/200\u001b[0m \u001b[32m━━━━━━━━━━━━━━━━━━━━\u001b[0m\u001b[37m\u001b[0m \u001b[1m1s\u001b[0m 3ms/step - accuracy: 0.8628 - loss: 0.3508 - val_accuracy: 0.8587 - val_loss: 0.3509\n",
      "Epoch 25/100\n",
      "\u001b[1m200/200\u001b[0m \u001b[32m━━━━━━━━━━━━━━━━━━━━\u001b[0m\u001b[37m\u001b[0m \u001b[1m1s\u001b[0m 3ms/step - accuracy: 0.8657 - loss: 0.3344 - val_accuracy: 0.8606 - val_loss: 0.3492\n",
      "Epoch 26/100\n",
      "\u001b[1m200/200\u001b[0m \u001b[32m━━━━━━━━━━━━━━━━━━━━\u001b[0m\u001b[37m\u001b[0m \u001b[1m1s\u001b[0m 3ms/step - accuracy: 0.8669 - loss: 0.3429 - val_accuracy: 0.8606 - val_loss: 0.3502\n",
      "Epoch 27/100\n",
      "\u001b[1m200/200\u001b[0m \u001b[32m━━━━━━━━━━━━━━━━━━━━\u001b[0m\u001b[37m\u001b[0m \u001b[1m1s\u001b[0m 3ms/step - accuracy: 0.8598 - loss: 0.3471 - val_accuracy: 0.8594 - val_loss: 0.3490\n",
      "Epoch 28/100\n",
      "\u001b[1m200/200\u001b[0m \u001b[32m━━━━━━━━━━━━━━━━━━━━\u001b[0m\u001b[37m\u001b[0m \u001b[1m1s\u001b[0m 3ms/step - accuracy: 0.8588 - loss: 0.3507 - val_accuracy: 0.8606 - val_loss: 0.3478\n",
      "Epoch 29/100\n",
      "\u001b[1m200/200\u001b[0m \u001b[32m━━━━━━━━━━━━━━━━━━━━\u001b[0m\u001b[37m\u001b[0m \u001b[1m1s\u001b[0m 3ms/step - accuracy: 0.8656 - loss: 0.3374 - val_accuracy: 0.8594 - val_loss: 0.3485\n",
      "Epoch 30/100\n",
      "\u001b[1m200/200\u001b[0m \u001b[32m━━━━━━━━━━━━━━━━━━━━\u001b[0m\u001b[37m\u001b[0m \u001b[1m1s\u001b[0m 3ms/step - accuracy: 0.8633 - loss: 0.3430 - val_accuracy: 0.8600 - val_loss: 0.3467\n",
      "Epoch 31/100\n",
      "\u001b[1m200/200\u001b[0m \u001b[32m━━━━━━━━━━━━━━━━━━━━\u001b[0m\u001b[37m\u001b[0m \u001b[1m1s\u001b[0m 3ms/step - accuracy: 0.8663 - loss: 0.3381 - val_accuracy: 0.8600 - val_loss: 0.3465\n",
      "Epoch 32/100\n",
      "\u001b[1m200/200\u001b[0m \u001b[32m━━━━━━━━━━━━━━━━━━━━\u001b[0m\u001b[37m\u001b[0m \u001b[1m1s\u001b[0m 3ms/step - accuracy: 0.8638 - loss: 0.3346 - val_accuracy: 0.8594 - val_loss: 0.3455\n",
      "Epoch 33/100\n",
      "\u001b[1m200/200\u001b[0m \u001b[32m━━━━━━━━━━━━━━━━━━━━\u001b[0m\u001b[37m\u001b[0m \u001b[1m1s\u001b[0m 3ms/step - accuracy: 0.8722 - loss: 0.3273 - val_accuracy: 0.8556 - val_loss: 0.3452\n",
      "Epoch 34/100\n",
      "\u001b[1m200/200\u001b[0m \u001b[32m━━━━━━━━━━━━━━━━━━━━\u001b[0m\u001b[37m\u001b[0m \u001b[1m1s\u001b[0m 3ms/step - accuracy: 0.8669 - loss: 0.3412 - val_accuracy: 0.8581 - val_loss: 0.3447\n",
      "Epoch 35/100\n",
      "\u001b[1m200/200\u001b[0m \u001b[32m━━━━━━━━━━━━━━━━━━━━\u001b[0m\u001b[37m\u001b[0m \u001b[1m1s\u001b[0m 3ms/step - accuracy: 0.8639 - loss: 0.3384 - val_accuracy: 0.8587 - val_loss: 0.3450\n",
      "Epoch 36/100\n",
      "\u001b[1m200/200\u001b[0m \u001b[32m━━━━━━━━━━━━━━━━━━━━\u001b[0m\u001b[37m\u001b[0m \u001b[1m1s\u001b[0m 2ms/step - accuracy: 0.8512 - loss: 0.3531 - val_accuracy: 0.8581 - val_loss: 0.3444\n",
      "Epoch 37/100\n",
      "\u001b[1m200/200\u001b[0m \u001b[32m━━━━━━━━━━━━━━━━━━━━\u001b[0m\u001b[37m\u001b[0m \u001b[1m1s\u001b[0m 3ms/step - accuracy: 0.8713 - loss: 0.3275 - val_accuracy: 0.8569 - val_loss: 0.3438\n",
      "Epoch 38/100\n",
      "\u001b[1m200/200\u001b[0m \u001b[32m━━━━━━━━━━━━━━━━━━━━\u001b[0m\u001b[37m\u001b[0m \u001b[1m1s\u001b[0m 3ms/step - accuracy: 0.8663 - loss: 0.3322 - val_accuracy: 0.8569 - val_loss: 0.3438\n",
      "Epoch 39/100\n",
      "\u001b[1m200/200\u001b[0m \u001b[32m━━━━━━━━━━━━━━━━━━━━\u001b[0m\u001b[37m\u001b[0m \u001b[1m1s\u001b[0m 3ms/step - accuracy: 0.8704 - loss: 0.3288 - val_accuracy: 0.8569 - val_loss: 0.3438\n",
      "Epoch 40/100\n",
      "\u001b[1m200/200\u001b[0m \u001b[32m━━━━━━━━━━━━━━━━━━━━\u001b[0m\u001b[37m\u001b[0m \u001b[1m1s\u001b[0m 3ms/step - accuracy: 0.8669 - loss: 0.3328 - val_accuracy: 0.8575 - val_loss: 0.3424\n",
      "Epoch 41/100\n",
      "\u001b[1m200/200\u001b[0m \u001b[32m━━━━━━━━━━━━━━━━━━━━\u001b[0m\u001b[37m\u001b[0m \u001b[1m1s\u001b[0m 3ms/step - accuracy: 0.8710 - loss: 0.3231 - val_accuracy: 0.8587 - val_loss: 0.3426\n",
      "Epoch 42/100\n",
      "\u001b[1m200/200\u001b[0m \u001b[32m━━━━━━━━━━━━━━━━━━━━\u001b[0m\u001b[37m\u001b[0m \u001b[1m1s\u001b[0m 3ms/step - accuracy: 0.8681 - loss: 0.3263 - val_accuracy: 0.8569 - val_loss: 0.3437\n",
      "Epoch 43/100\n",
      "\u001b[1m200/200\u001b[0m \u001b[32m━━━━━━━━━━━━━━━━━━━━\u001b[0m\u001b[37m\u001b[0m \u001b[1m1s\u001b[0m 3ms/step - accuracy: 0.8551 - loss: 0.3520 - val_accuracy: 0.8594 - val_loss: 0.3428\n",
      "Epoch 44/100\n",
      "\u001b[1m200/200\u001b[0m \u001b[32m━━━━━━━━━━━━━━━━━━━━\u001b[0m\u001b[37m\u001b[0m \u001b[1m1s\u001b[0m 3ms/step - accuracy: 0.8684 - loss: 0.3237 - val_accuracy: 0.8544 - val_loss: 0.3425\n",
      "Epoch 45/100\n",
      "\u001b[1m200/200\u001b[0m \u001b[32m━━━━━━━━━━━━━━━━━━━━\u001b[0m\u001b[37m\u001b[0m \u001b[1m1s\u001b[0m 3ms/step - accuracy: 0.8661 - loss: 0.3324 - val_accuracy: 0.8569 - val_loss: 0.3424\n",
      "Epoch 46/100\n",
      "\u001b[1m200/200\u001b[0m \u001b[32m━━━━━━━━━━━━━━━━━━━━\u001b[0m\u001b[37m\u001b[0m \u001b[1m1s\u001b[0m 3ms/step - accuracy: 0.8672 - loss: 0.3319 - val_accuracy: 0.8569 - val_loss: 0.3427\n",
      "Epoch 47/100\n",
      "\u001b[1m200/200\u001b[0m \u001b[32m━━━━━━━━━━━━━━━━━━━━\u001b[0m\u001b[37m\u001b[0m \u001b[1m1s\u001b[0m 3ms/step - accuracy: 0.8674 - loss: 0.3316 - val_accuracy: 0.8550 - val_loss: 0.3427\n",
      "Epoch 48/100\n",
      "\u001b[1m200/200\u001b[0m \u001b[32m━━━━━━━━━━━━━━━━━━━━\u001b[0m\u001b[37m\u001b[0m \u001b[1m1s\u001b[0m 3ms/step - accuracy: 0.8637 - loss: 0.3330 - val_accuracy: 0.8544 - val_loss: 0.3414\n",
      "Epoch 49/100\n",
      "\u001b[1m200/200\u001b[0m \u001b[32m━━━━━━━━━━━━━━━━━━━━\u001b[0m\u001b[37m\u001b[0m \u001b[1m1s\u001b[0m 3ms/step - accuracy: 0.8616 - loss: 0.3394 - val_accuracy: 0.8544 - val_loss: 0.3419\n",
      "Epoch 50/100\n",
      "\u001b[1m200/200\u001b[0m \u001b[32m━━━━━━━━━━━━━━━━━━━━\u001b[0m\u001b[37m\u001b[0m \u001b[1m1s\u001b[0m 3ms/step - accuracy: 0.8630 - loss: 0.3358 - val_accuracy: 0.8550 - val_loss: 0.3417\n",
      "Epoch 51/100\n",
      "\u001b[1m200/200\u001b[0m \u001b[32m━━━━━━━━━━━━━━━━━━━━\u001b[0m\u001b[37m\u001b[0m \u001b[1m1s\u001b[0m 3ms/step - accuracy: 0.8569 - loss: 0.3389 - val_accuracy: 0.8556 - val_loss: 0.3412\n",
      "Epoch 52/100\n",
      "\u001b[1m200/200\u001b[0m \u001b[32m━━━━━━━━━━━━━━━━━━━━\u001b[0m\u001b[37m\u001b[0m \u001b[1m1s\u001b[0m 2ms/step - accuracy: 0.8597 - loss: 0.3320 - val_accuracy: 0.8556 - val_loss: 0.3410\n",
      "Epoch 53/100\n",
      "\u001b[1m200/200\u001b[0m \u001b[32m━━━━━━━━━━━━━━━━━━━━\u001b[0m\u001b[37m\u001b[0m \u001b[1m1s\u001b[0m 3ms/step - accuracy: 0.8643 - loss: 0.3333 - val_accuracy: 0.8569 - val_loss: 0.3410\n",
      "Epoch 54/100\n",
      "\u001b[1m200/200\u001b[0m \u001b[32m━━━━━━━━━━━━━━━━━━━━\u001b[0m\u001b[37m\u001b[0m \u001b[1m1s\u001b[0m 3ms/step - accuracy: 0.8734 - loss: 0.3216 - val_accuracy: 0.8569 - val_loss: 0.3412\n",
      "Epoch 55/100\n",
      "\u001b[1m200/200\u001b[0m \u001b[32m━━━━━━━━━━━━━━━━━━━━\u001b[0m\u001b[37m\u001b[0m \u001b[1m1s\u001b[0m 2ms/step - accuracy: 0.8621 - loss: 0.3372 - val_accuracy: 0.8569 - val_loss: 0.3410\n",
      "Epoch 56/100\n",
      "\u001b[1m200/200\u001b[0m \u001b[32m━━━━━━━━━━━━━━━━━━━━\u001b[0m\u001b[37m\u001b[0m \u001b[1m1s\u001b[0m 3ms/step - accuracy: 0.8739 - loss: 0.3164 - val_accuracy: 0.8562 - val_loss: 0.3404\n",
      "Epoch 57/100\n",
      "\u001b[1m200/200\u001b[0m \u001b[32m━━━━━━━━━━━━━━━━━━━━\u001b[0m\u001b[37m\u001b[0m \u001b[1m1s\u001b[0m 2ms/step - accuracy: 0.8661 - loss: 0.3309 - val_accuracy: 0.8550 - val_loss: 0.3404\n",
      "Epoch 58/100\n",
      "\u001b[1m200/200\u001b[0m \u001b[32m━━━━━━━━━━━━━━━━━━━━\u001b[0m\u001b[37m\u001b[0m \u001b[1m1s\u001b[0m 3ms/step - accuracy: 0.8667 - loss: 0.3306 - val_accuracy: 0.8544 - val_loss: 0.3392\n",
      "Epoch 59/100\n",
      "\u001b[1m200/200\u001b[0m \u001b[32m━━━━━━━━━━━━━━━━━━━━\u001b[0m\u001b[37m\u001b[0m \u001b[1m1s\u001b[0m 3ms/step - accuracy: 0.8665 - loss: 0.3258 - val_accuracy: 0.8537 - val_loss: 0.3392\n",
      "Epoch 60/100\n",
      "\u001b[1m200/200\u001b[0m \u001b[32m━━━━━━━━━━━━━━━━━━━━\u001b[0m\u001b[37m\u001b[0m \u001b[1m1s\u001b[0m 3ms/step - accuracy: 0.8619 - loss: 0.3332 - val_accuracy: 0.8519 - val_loss: 0.3403\n",
      "Epoch 61/100\n",
      "\u001b[1m200/200\u001b[0m \u001b[32m━━━━━━━━━━━━━━━━━━━━\u001b[0m\u001b[37m\u001b[0m \u001b[1m1s\u001b[0m 3ms/step - accuracy: 0.8554 - loss: 0.3457 - val_accuracy: 0.8550 - val_loss: 0.3393\n",
      "Epoch 62/100\n",
      "\u001b[1m200/200\u001b[0m \u001b[32m━━━━━━━━━━━━━━━━━━━━\u001b[0m\u001b[37m\u001b[0m \u001b[1m1s\u001b[0m 3ms/step - accuracy: 0.8567 - loss: 0.3386 - val_accuracy: 0.8537 - val_loss: 0.3395\n",
      "Epoch 63/100\n",
      "\u001b[1m200/200\u001b[0m \u001b[32m━━━━━━━━━━━━━━━━━━━━\u001b[0m\u001b[37m\u001b[0m \u001b[1m1s\u001b[0m 3ms/step - accuracy: 0.8611 - loss: 0.3305 - val_accuracy: 0.8537 - val_loss: 0.3396\n",
      "Epoch 64/100\n",
      "\u001b[1m200/200\u001b[0m \u001b[32m━━━━━━━━━━━━━━━━━━━━\u001b[0m\u001b[37m\u001b[0m \u001b[1m1s\u001b[0m 3ms/step - accuracy: 0.8697 - loss: 0.3216 - val_accuracy: 0.8544 - val_loss: 0.3400\n",
      "Epoch 65/100\n",
      "\u001b[1m200/200\u001b[0m \u001b[32m━━━━━━━━━━━━━━━━━━━━\u001b[0m\u001b[37m\u001b[0m \u001b[1m1s\u001b[0m 3ms/step - accuracy: 0.8640 - loss: 0.3316 - val_accuracy: 0.8512 - val_loss: 0.3394\n",
      "Epoch 66/100\n",
      "\u001b[1m200/200\u001b[0m \u001b[32m━━━━━━━━━━━━━━━━━━━━\u001b[0m\u001b[37m\u001b[0m \u001b[1m1s\u001b[0m 3ms/step - accuracy: 0.8596 - loss: 0.3326 - val_accuracy: 0.8531 - val_loss: 0.3395\n",
      "Epoch 67/100\n",
      "\u001b[1m200/200\u001b[0m \u001b[32m━━━━━━━━━━━━━━━━━━━━\u001b[0m\u001b[37m\u001b[0m \u001b[1m1s\u001b[0m 3ms/step - accuracy: 0.8592 - loss: 0.3346 - val_accuracy: 0.8544 - val_loss: 0.3390\n",
      "Epoch 68/100\n",
      "\u001b[1m200/200\u001b[0m \u001b[32m━━━━━━━━━━━━━━━━━━━━\u001b[0m\u001b[37m\u001b[0m \u001b[1m1s\u001b[0m 3ms/step - accuracy: 0.8667 - loss: 0.3315 - val_accuracy: 0.8550 - val_loss: 0.3388\n",
      "Epoch 69/100\n",
      "\u001b[1m200/200\u001b[0m \u001b[32m━━━━━━━━━━━━━━━━━━━━\u001b[0m\u001b[37m\u001b[0m \u001b[1m1s\u001b[0m 3ms/step - accuracy: 0.8701 - loss: 0.3204 - val_accuracy: 0.8531 - val_loss: 0.3397\n",
      "Epoch 70/100\n",
      "\u001b[1m200/200\u001b[0m \u001b[32m━━━━━━━━━━━━━━━━━━━━\u001b[0m\u001b[37m\u001b[0m \u001b[1m1s\u001b[0m 3ms/step - accuracy: 0.8692 - loss: 0.3231 - val_accuracy: 0.8556 - val_loss: 0.3393\n",
      "Epoch 71/100\n",
      "\u001b[1m200/200\u001b[0m \u001b[32m━━━━━━━━━━━━━━━━━━━━\u001b[0m\u001b[37m\u001b[0m \u001b[1m1s\u001b[0m 3ms/step - accuracy: 0.8631 - loss: 0.3372 - val_accuracy: 0.8544 - val_loss: 0.3395\n",
      "Epoch 72/100\n",
      "\u001b[1m200/200\u001b[0m \u001b[32m━━━━━━━━━━━━━━━━━━━━\u001b[0m\u001b[37m\u001b[0m \u001b[1m1s\u001b[0m 2ms/step - accuracy: 0.8658 - loss: 0.3205 - val_accuracy: 0.8562 - val_loss: 0.3387\n",
      "Epoch 73/100\n",
      "\u001b[1m200/200\u001b[0m \u001b[32m━━━━━━━━━━━━━━━━━━━━\u001b[0m\u001b[37m\u001b[0m \u001b[1m1s\u001b[0m 3ms/step - accuracy: 0.8645 - loss: 0.3335 - val_accuracy: 0.8519 - val_loss: 0.3394\n",
      "Epoch 74/100\n",
      "\u001b[1m200/200\u001b[0m \u001b[32m━━━━━━━━━━━━━━━━━━━━\u001b[0m\u001b[37m\u001b[0m \u001b[1m1s\u001b[0m 3ms/step - accuracy: 0.8662 - loss: 0.3297 - val_accuracy: 0.8531 - val_loss: 0.3390\n",
      "Epoch 75/100\n",
      "\u001b[1m200/200\u001b[0m \u001b[32m━━━━━━━━━━━━━━━━━━━━\u001b[0m\u001b[37m\u001b[0m \u001b[1m1s\u001b[0m 3ms/step - accuracy: 0.8586 - loss: 0.3314 - val_accuracy: 0.8525 - val_loss: 0.3392\n",
      "Epoch 76/100\n",
      "\u001b[1m200/200\u001b[0m \u001b[32m━━━━━━━━━━━━━━━━━━━━\u001b[0m\u001b[37m\u001b[0m \u001b[1m1s\u001b[0m 3ms/step - accuracy: 0.8637 - loss: 0.3303 - val_accuracy: 0.8531 - val_loss: 0.3394\n",
      "Epoch 77/100\n",
      "\u001b[1m200/200\u001b[0m \u001b[32m━━━━━━━━━━━━━━━━━━━━\u001b[0m\u001b[37m\u001b[0m \u001b[1m1s\u001b[0m 3ms/step - accuracy: 0.8666 - loss: 0.3264 - val_accuracy: 0.8537 - val_loss: 0.3390\n",
      "Epoch 78/100\n",
      "\u001b[1m200/200\u001b[0m \u001b[32m━━━━━━━━━━━━━━━━━━━━\u001b[0m\u001b[37m\u001b[0m \u001b[1m1s\u001b[0m 3ms/step - accuracy: 0.8658 - loss: 0.3235 - val_accuracy: 0.8544 - val_loss: 0.3390\n",
      "Epoch 79/100\n",
      "\u001b[1m200/200\u001b[0m \u001b[32m━━━━━━━━━━━━━━━━━━━━\u001b[0m\u001b[37m\u001b[0m \u001b[1m1s\u001b[0m 3ms/step - accuracy: 0.8613 - loss: 0.3294 - val_accuracy: 0.8525 - val_loss: 0.3395\n",
      "Epoch 80/100\n",
      "\u001b[1m200/200\u001b[0m \u001b[32m━━━━━━━━━━━━━━━━━━━━\u001b[0m\u001b[37m\u001b[0m \u001b[1m1s\u001b[0m 3ms/step - accuracy: 0.8734 - loss: 0.3179 - val_accuracy: 0.8525 - val_loss: 0.3396\n",
      "Epoch 81/100\n",
      "\u001b[1m200/200\u001b[0m \u001b[32m━━━━━━━━━━━━━━━━━━━━\u001b[0m\u001b[37m\u001b[0m \u001b[1m1s\u001b[0m 3ms/step - accuracy: 0.8697 - loss: 0.3204 - val_accuracy: 0.8537 - val_loss: 0.3399\n",
      "Epoch 82/100\n",
      "\u001b[1m200/200\u001b[0m \u001b[32m━━━━━━━━━━━━━━━━━━━━\u001b[0m\u001b[37m\u001b[0m \u001b[1m1s\u001b[0m 3ms/step - accuracy: 0.8653 - loss: 0.3247 - val_accuracy: 0.8512 - val_loss: 0.3390\n",
      "Epoch 83/100\n",
      "\u001b[1m200/200\u001b[0m \u001b[32m━━━━━━━━━━━━━━━━━━━━\u001b[0m\u001b[37m\u001b[0m \u001b[1m1s\u001b[0m 3ms/step - accuracy: 0.8675 - loss: 0.3197 - val_accuracy: 0.8562 - val_loss: 0.3384\n",
      "Epoch 84/100\n",
      "\u001b[1m200/200\u001b[0m \u001b[32m━━━━━━━━━━━━━━━━━━━━\u001b[0m\u001b[37m\u001b[0m \u001b[1m1s\u001b[0m 3ms/step - accuracy: 0.8706 - loss: 0.3209 - val_accuracy: 0.8525 - val_loss: 0.3392\n",
      "Epoch 85/100\n",
      "\u001b[1m200/200\u001b[0m \u001b[32m━━━━━━━━━━━━━━━━━━━━\u001b[0m\u001b[37m\u001b[0m \u001b[1m1s\u001b[0m 3ms/step - accuracy: 0.8666 - loss: 0.3246 - val_accuracy: 0.8556 - val_loss: 0.3407\n",
      "Epoch 86/100\n",
      "\u001b[1m200/200\u001b[0m \u001b[32m━━━━━━━━━━━━━━━━━━━━\u001b[0m\u001b[37m\u001b[0m \u001b[1m1s\u001b[0m 3ms/step - accuracy: 0.8685 - loss: 0.3141 - val_accuracy: 0.8506 - val_loss: 0.3394\n",
      "Epoch 87/100\n",
      "\u001b[1m200/200\u001b[0m \u001b[32m━━━━━━━━━━━━━━━━━━━━\u001b[0m\u001b[37m\u001b[0m \u001b[1m1s\u001b[0m 3ms/step - accuracy: 0.8596 - loss: 0.3420 - val_accuracy: 0.8556 - val_loss: 0.3395\n",
      "Epoch 88/100\n",
      "\u001b[1m200/200\u001b[0m \u001b[32m━━━━━━━━━━━━━━━━━━━━\u001b[0m\u001b[37m\u001b[0m \u001b[1m1s\u001b[0m 3ms/step - accuracy: 0.8620 - loss: 0.3354 - val_accuracy: 0.8531 - val_loss: 0.3405\n",
      "Epoch 89/100\n",
      "\u001b[1m200/200\u001b[0m \u001b[32m━━━━━━━━━━━━━━━━━━━━\u001b[0m\u001b[37m\u001b[0m \u001b[1m1s\u001b[0m 3ms/step - accuracy: 0.8623 - loss: 0.3312 - val_accuracy: 0.8569 - val_loss: 0.3399\n",
      "Epoch 90/100\n",
      "\u001b[1m200/200\u001b[0m \u001b[32m━━━━━━━━━━━━━━━━━━━━\u001b[0m\u001b[37m\u001b[0m \u001b[1m1s\u001b[0m 3ms/step - accuracy: 0.8621 - loss: 0.3260 - val_accuracy: 0.8525 - val_loss: 0.3393\n",
      "Epoch 91/100\n",
      "\u001b[1m200/200\u001b[0m \u001b[32m━━━━━━━━━━━━━━━━━━━━\u001b[0m\u001b[37m\u001b[0m \u001b[1m1s\u001b[0m 3ms/step - accuracy: 0.8670 - loss: 0.3208 - val_accuracy: 0.8556 - val_loss: 0.3397\n",
      "Epoch 92/100\n",
      "\u001b[1m200/200\u001b[0m \u001b[32m━━━━━━━━━━━━━━━━━━━━\u001b[0m\u001b[37m\u001b[0m \u001b[1m1s\u001b[0m 3ms/step - accuracy: 0.8586 - loss: 0.3339 - val_accuracy: 0.8556 - val_loss: 0.3402\n",
      "Epoch 93/100\n",
      "\u001b[1m200/200\u001b[0m \u001b[32m━━━━━━━━━━━━━━━━━━━━\u001b[0m\u001b[37m\u001b[0m \u001b[1m1s\u001b[0m 3ms/step - accuracy: 0.8634 - loss: 0.3290 - val_accuracy: 0.8537 - val_loss: 0.3395\n",
      "Epoch 94/100\n",
      "\u001b[1m200/200\u001b[0m \u001b[32m━━━━━━━━━━━━━━━━━━━━\u001b[0m\u001b[37m\u001b[0m \u001b[1m1s\u001b[0m 3ms/step - accuracy: 0.8655 - loss: 0.3268 - val_accuracy: 0.8544 - val_loss: 0.3398\n",
      "Epoch 95/100\n",
      "\u001b[1m200/200\u001b[0m \u001b[32m━━━━━━━━━━━━━━━━━━━━\u001b[0m\u001b[37m\u001b[0m \u001b[1m1s\u001b[0m 3ms/step - accuracy: 0.8672 - loss: 0.3202 - val_accuracy: 0.8556 - val_loss: 0.3398\n",
      "Epoch 96/100\n",
      "\u001b[1m200/200\u001b[0m \u001b[32m━━━━━━━━━━━━━━━━━━━━\u001b[0m\u001b[37m\u001b[0m \u001b[1m1s\u001b[0m 3ms/step - accuracy: 0.8635 - loss: 0.3291 - val_accuracy: 0.8550 - val_loss: 0.3397\n",
      "Epoch 97/100\n",
      "\u001b[1m200/200\u001b[0m \u001b[32m━━━━━━━━━━━━━━━━━━━━\u001b[0m\u001b[37m\u001b[0m \u001b[1m1s\u001b[0m 3ms/step - accuracy: 0.8625 - loss: 0.3308 - val_accuracy: 0.8519 - val_loss: 0.3394\n",
      "Epoch 98/100\n",
      "\u001b[1m200/200\u001b[0m \u001b[32m━━━━━━━━━━━━━━━━━━━━\u001b[0m\u001b[37m\u001b[0m \u001b[1m1s\u001b[0m 3ms/step - accuracy: 0.8658 - loss: 0.3321 - val_accuracy: 0.8525 - val_loss: 0.3390\n",
      "Epoch 99/100\n",
      "\u001b[1m200/200\u001b[0m \u001b[32m━━━━━━━━━━━━━━━━━━━━\u001b[0m\u001b[37m\u001b[0m \u001b[1m1s\u001b[0m 3ms/step - accuracy: 0.8612 - loss: 0.3327 - val_accuracy: 0.8544 - val_loss: 0.3397\n",
      "Epoch 100/100\n",
      "\u001b[1m200/200\u001b[0m \u001b[32m━━━━━━━━━━━━━━━━━━━━\u001b[0m\u001b[37m\u001b[0m \u001b[1m1s\u001b[0m 3ms/step - accuracy: 0.8679 - loss: 0.3269 - val_accuracy: 0.8544 - val_loss: 0.3392\n"
     ]
    }
   ],
   "source": [
    "history = model.fit(X_train_scaled,y_train,epochs=100, validation_split=0.2)\n",
    "# validation_split => furthur split the X_train and check the accuracy on it\n",
    "# 10k rows --20%--> 8k rows --20%--> 6.4k rows \n",
    "\n",
    "# stored all data in the variable named history -> help in plotting the values"
   ]
  },
  {
   "cell_type": "markdown",
   "id": "ef18f937",
   "metadata": {
    "papermill": {
     "duration": 0.058087,
     "end_time": "2025-07-04T06:58:21.224673",
     "exception": false,
     "start_time": "2025-07-04T06:58:21.166586",
     "status": "completed"
    },
    "tags": []
   },
   "source": [
    "if only accuracy of training data is increasing, not with validation accuracy => Overfitting "
   ]
  },
  {
   "cell_type": "code",
   "execution_count": 22,
   "id": "b7fcda26",
   "metadata": {
    "execution": {
     "iopub.execute_input": "2025-07-04T06:58:21.344233Z",
     "iopub.status.busy": "2025-07-04T06:58:21.343765Z",
     "iopub.status.idle": "2025-07-04T06:58:21.356619Z",
     "shell.execute_reply": "2025-07-04T06:58:21.355553Z"
    },
    "papermill": {
     "duration": 0.073923,
     "end_time": "2025-07-04T06:58:21.358185",
     "exception": false,
     "start_time": "2025-07-04T06:58:21.284262",
     "status": "completed"
    },
    "tags": []
   },
   "outputs": [
    {
     "data": {
      "text/plain": [
       "[array([[ 3.9560136e-01,  8.6336359e-02,  9.3090579e-02,  3.2302445e-01,\n",
       "         -1.9331771e-01, -3.6826197e-02,  3.6652847e-03,  3.3709547e-01,\n",
       "          3.4154826e-01,  8.5691712e-04, -1.5031761e-01],\n",
       "        [-5.8580720e-01,  4.6159831e-01, -7.5892192e-01, -5.1056659e-01,\n",
       "         -1.9076671e-01, -5.7465136e-01, -1.6616407e-01, -1.3243309e-01,\n",
       "          7.1842390e-01, -1.0280097e+00, -9.6988583e-01],\n",
       "        [-1.4218736e-01,  6.7416471e-01,  1.7423701e-02, -2.8786868e-01,\n",
       "          5.7942301e-01, -2.4730608e-01,  2.2438468e-01,  1.2094970e-01,\n",
       "          1.5128095e-01,  4.1431751e-02,  2.9422435e-01],\n",
       "        [ 2.0337535e-01, -4.5438802e-01,  2.0396240e-01,  9.8210490e-01,\n",
       "         -4.6057850e-01,  6.7443080e-02, -3.6084544e-02, -8.1352818e-01,\n",
       "         -1.3875431e-01, -2.0033820e-01, -3.4799850e-01],\n",
       "        [ 2.3896852e-01, -2.5962529e-01, -4.9457934e-02,  1.6516995e+00,\n",
       "          1.7723978e+00,  5.6618470e-01, -1.5424929e+00, -1.7095633e+00,\n",
       "          1.1324835e-01,  1.3235073e-01,  9.8976158e-02],\n",
       "        [-2.1534023e-01,  8.0402374e-01,  7.6880618e-03, -2.0272323e-01,\n",
       "          3.6128044e-01,  4.4082680e-01, -2.7251273e-01,  1.8896309e-01,\n",
       "         -1.6846338e-01, -4.2306397e-02,  3.2573947e-01],\n",
       "        [-3.7695876e-01,  2.4156183e-01, -3.7641060e-01, -5.5799586e-01,\n",
       "         -9.2191958e-01,  1.0087579e+00, -8.1064826e-01, -9.1467649e-01,\n",
       "          2.4799208e-01, -5.3881711e-01,  9.2429683e-02],\n",
       "        [ 6.2066846e-02, -1.8350335e-02,  4.0914640e-02, -1.8852530e-02,\n",
       "          1.0296857e-01,  5.2367890e-01,  4.3190470e-01, -1.5413611e-01,\n",
       "          2.7621401e-02, -1.6627897e-02, -3.0120403e-01],\n",
       "        [-4.9856877e-01,  3.6421761e-01,  5.7992171e-02, -6.7712915e-01,\n",
       "          5.4522228e-01, -1.7517714e-01, -2.7693179e-01,  7.0119721e-01,\n",
       "         -2.6659480e-01,  6.1374195e-02, -6.3864368e-01],\n",
       "        [-4.4726121e-01,  8.1794403e-02,  4.9690295e-02, -3.8403347e-02,\n",
       "          1.8199442e-01, -4.5542797e-01,  2.4911049e-01,  2.7361378e-02,\n",
       "          3.9894310e-01, -9.6018299e-02,  3.3546829e-01],\n",
       "        [ 2.3984531e-01, -4.0455222e-01,  2.3297319e-02,  2.7731690e-01,\n",
       "         -4.5823744e-01,  4.6716741e-01,  1.2125603e-01,  1.5813625e-01,\n",
       "          4.5746806e-01,  9.5729873e-02,  7.9349332e-02]], dtype=float32),\n",
       " array([ 0.3455298 , -0.06374452,  1.0529507 , -0.11147809, -0.3115353 ,\n",
       "        -0.09898973,  0.21101965,  0.34579134,  0.40038112,  1.4344966 ,\n",
       "         0.48587072], dtype=float32)]"
      ]
     },
     "execution_count": 22,
     "metadata": {},
     "output_type": "execute_result"
    }
   ],
   "source": [
    "model.layers[0].get_weights() # layer[0] points to the input layer and the output weights shows the index wise the weights of the connection between each neuron also there is an second arry which shows the weight of bias\n"
   ]
  },
  {
   "cell_type": "code",
   "execution_count": 23,
   "id": "9a1ef7df",
   "metadata": {
    "execution": {
     "iopub.execute_input": "2025-07-04T06:58:21.477467Z",
     "iopub.status.busy": "2025-07-04T06:58:21.476743Z",
     "iopub.status.idle": "2025-07-04T06:58:21.486493Z",
     "shell.execute_reply": "2025-07-04T06:58:21.485590Z"
    },
    "papermill": {
     "duration": 0.071586,
     "end_time": "2025-07-04T06:58:21.488102",
     "exception": false,
     "start_time": "2025-07-04T06:58:21.416516",
     "status": "completed"
    },
    "tags": []
   },
   "outputs": [
    {
     "data": {
      "text/plain": [
       "[array([[ 0.09471758, -0.6890737 ,  0.37646532, -0.7601505 , -0.23535083],\n",
       "        [ 0.6493626 , -0.35886088,  1.1437951 ,  1.044246  ,  0.5014736 ],\n",
       "        [ 0.62034076, -0.7586113 ,  1.4926717 , -0.54040897, -0.21187346],\n",
       "        [-0.76407886,  1.0503098 , -0.78119594, -0.5140259 ,  0.49180198],\n",
       "        [-1.0513804 ,  0.6815305 , -0.79626125, -0.30393115, -1.5619043 ],\n",
       "        [ 0.5730522 ,  0.01066698,  0.09099124, -1.1095413 , -0.25508514],\n",
       "        [-0.31062874,  0.5908436 , -0.44743502, -0.39789966,  1.0865849 ],\n",
       "        [-0.37289855,  0.55382806, -0.67225313,  0.9240512 ,  1.3711348 ],\n",
       "        [ 0.40170035, -0.44955173,  0.15524592, -1.037125  , -1.1312264 ],\n",
       "        [ 0.8536183 , -1.3145487 ,  1.4816195 ,  0.03285327, -0.16756126],\n",
       "        [ 0.9245992 ,  0.14361359,  0.47097805, -0.4534281 , -0.21123603]],\n",
       "       dtype=float32),\n",
       " array([ 0.31820366, -0.49382088,  0.33898064,  0.04026547, -0.00987632],\n",
       "       dtype=float32)]"
      ]
     },
     "execution_count": 23,
     "metadata": {},
     "output_type": "execute_result"
    }
   ],
   "source": [
    "model.layers[1].get_weights()"
   ]
  },
  {
   "cell_type": "code",
   "execution_count": 24,
   "id": "cc0db41a",
   "metadata": {
    "execution": {
     "iopub.execute_input": "2025-07-04T06:58:21.605444Z",
     "iopub.status.busy": "2025-07-04T06:58:21.605098Z",
     "iopub.status.idle": "2025-07-04T06:58:21.936813Z",
     "shell.execute_reply": "2025-07-04T06:58:21.935742Z"
    },
    "papermill": {
     "duration": 0.392174,
     "end_time": "2025-07-04T06:58:21.938530",
     "exception": false,
     "start_time": "2025-07-04T06:58:21.546356",
     "status": "completed"
    },
    "tags": []
   },
   "outputs": [
    {
     "name": "stdout",
     "output_type": "stream",
     "text": [
      "\u001b[1m63/63\u001b[0m \u001b[32m━━━━━━━━━━━━━━━━━━━━\u001b[0m\u001b[37m\u001b[0m \u001b[1m0s\u001b[0m 2ms/step\n"
     ]
    },
    {
     "data": {
      "text/plain": [
       "array([[0.04181252],\n",
       "       [0.02737981],\n",
       "       [0.0771599 ],\n",
       "       ...,\n",
       "       [0.560302  ],\n",
       "       [0.1306655 ],\n",
       "       [0.23933092]], dtype=float32)"
      ]
     },
     "execution_count": 24,
     "metadata": {},
     "output_type": "execute_result"
    }
   ],
   "source": [
    "model.predict(X_test_scaled) # here we go, got the predict value, but it is not 0 and 1, beacuse we used sigmoid function which put these as a probabilities"
   ]
  },
  {
   "cell_type": "code",
   "execution_count": 25,
   "id": "60bad0f9",
   "metadata": {
    "execution": {
     "iopub.execute_input": "2025-07-04T06:58:22.062409Z",
     "iopub.status.busy": "2025-07-04T06:58:22.062066Z",
     "iopub.status.idle": "2025-07-04T06:58:22.324630Z",
     "shell.execute_reply": "2025-07-04T06:58:22.323060Z"
    },
    "papermill": {
     "duration": 0.327764,
     "end_time": "2025-07-04T06:58:22.326531",
     "exception": false,
     "start_time": "2025-07-04T06:58:21.998767",
     "status": "completed"
    },
    "tags": []
   },
   "outputs": [
    {
     "name": "stdout",
     "output_type": "stream",
     "text": [
      "\u001b[1m63/63\u001b[0m \u001b[32m━━━━━━━━━━━━━━━━━━━━\u001b[0m\u001b[37m\u001b[0m \u001b[1m0s\u001b[0m 2ms/step\n"
     ]
    }
   ],
   "source": [
    "y_log = model.predict(X_test_scaled)"
   ]
  },
  {
   "cell_type": "code",
   "execution_count": 26,
   "id": "28ba5785",
   "metadata": {
    "execution": {
     "iopub.execute_input": "2025-07-04T06:58:22.456034Z",
     "iopub.status.busy": "2025-07-04T06:58:22.454887Z",
     "iopub.status.idle": "2025-07-04T06:58:22.460990Z",
     "shell.execute_reply": "2025-07-04T06:58:22.459644Z"
    },
    "papermill": {
     "duration": 0.076875,
     "end_time": "2025-07-04T06:58:22.463195",
     "exception": false,
     "start_time": "2025-07-04T06:58:22.386320",
     "status": "completed"
    },
    "tags": []
   },
   "outputs": [],
   "source": [
    "y_pred = np.where(y_log>0.5, 1,0)"
   ]
  },
  {
   "cell_type": "code",
   "execution_count": 27,
   "id": "4c403a9f",
   "metadata": {
    "execution": {
     "iopub.execute_input": "2025-07-04T06:58:22.585477Z",
     "iopub.status.busy": "2025-07-04T06:58:22.584757Z",
     "iopub.status.idle": "2025-07-04T06:58:22.591591Z",
     "shell.execute_reply": "2025-07-04T06:58:22.590655Z"
    },
    "papermill": {
     "duration": 0.067944,
     "end_time": "2025-07-04T06:58:22.593189",
     "exception": false,
     "start_time": "2025-07-04T06:58:22.525245",
     "status": "completed"
    },
    "tags": []
   },
   "outputs": [
    {
     "data": {
      "text/plain": [
       "array([[0],\n",
       "       [0],\n",
       "       [0],\n",
       "       ...,\n",
       "       [1],\n",
       "       [0],\n",
       "       [0]])"
      ]
     },
     "execution_count": 27,
     "metadata": {},
     "output_type": "execute_result"
    }
   ],
   "source": [
    "y_pred # see output changes"
   ]
  },
  {
   "cell_type": "code",
   "execution_count": 28,
   "id": "4f7f4705",
   "metadata": {
    "execution": {
     "iopub.execute_input": "2025-07-04T06:58:22.744360Z",
     "iopub.status.busy": "2025-07-04T06:58:22.744023Z",
     "iopub.status.idle": "2025-07-04T06:58:22.753100Z",
     "shell.execute_reply": "2025-07-04T06:58:22.751958Z"
    },
    "papermill": {
     "duration": 0.086812,
     "end_time": "2025-07-04T06:58:22.755189",
     "exception": false,
     "start_time": "2025-07-04T06:58:22.668377",
     "status": "completed"
    },
    "tags": []
   },
   "outputs": [
    {
     "data": {
      "text/plain": [
       "0.8625"
      ]
     },
     "execution_count": 28,
     "metadata": {},
     "output_type": "execute_result"
    }
   ],
   "source": [
    "from sklearn.metrics import accuracy_score\n",
    "accuracy_score(y_test,y_pred)"
   ]
  },
  {
   "cell_type": "markdown",
   "id": "2766e87c",
   "metadata": {
    "papermill": {
     "duration": 0.060061,
     "end_time": "2025-07-04T06:58:22.873706",
     "exception": false,
     "start_time": "2025-07-04T06:58:22.813645",
     "status": "completed"
    },
    "tags": []
   },
   "source": [
    "Yayyy, accuracy improved"
   ]
  },
  {
   "cell_type": "code",
   "execution_count": 29,
   "id": "7b8a3c74",
   "metadata": {
    "execution": {
     "iopub.execute_input": "2025-07-04T06:58:22.998574Z",
     "iopub.status.busy": "2025-07-04T06:58:22.998145Z",
     "iopub.status.idle": "2025-07-04T06:58:23.009678Z",
     "shell.execute_reply": "2025-07-04T06:58:23.008782Z"
    },
    "papermill": {
     "duration": 0.076285,
     "end_time": "2025-07-04T06:58:23.011199",
     "exception": false,
     "start_time": "2025-07-04T06:58:22.934914",
     "status": "completed"
    },
    "tags": []
   },
   "outputs": [
    {
     "data": {
      "text/plain": [
       "{'accuracy': [0.753125011920929,\n",
       "  0.7934374809265137,\n",
       "  0.8001562356948853,\n",
       "  0.8137500286102295,\n",
       "  0.8204687237739563,\n",
       "  0.8221874833106995,\n",
       "  0.8228124976158142,\n",
       "  0.8243749737739563,\n",
       "  0.8293750286102295,\n",
       "  0.8343750238418579,\n",
       "  0.8370312452316284,\n",
       "  0.8412500023841858,\n",
       "  0.8439062237739563,\n",
       "  0.8470312356948853,\n",
       "  0.8521875143051147,\n",
       "  0.854687511920929,\n",
       "  0.8559374809265137,\n",
       "  0.8570312261581421,\n",
       "  0.8596875071525574,\n",
       "  0.8595312237739563,\n",
       "  0.8603125214576721,\n",
       "  0.8606250286102295,\n",
       "  0.8617187738418579,\n",
       "  0.8607812523841858,\n",
       "  0.8614062666893005,\n",
       "  0.8623437285423279,\n",
       "  0.8634374737739563,\n",
       "  0.8634374737739563,\n",
       "  0.860156238079071,\n",
       "  0.8629687428474426,\n",
       "  0.8637499809265137,\n",
       "  0.8637499809265137,\n",
       "  0.8628125190734863,\n",
       "  0.8646875023841858,\n",
       "  0.86328125,\n",
       "  0.8639062643051147,\n",
       "  0.864062488079071,\n",
       "  0.8643749952316284,\n",
       "  0.8646875023841858,\n",
       "  0.8650000095367432,\n",
       "  0.8642187714576721,\n",
       "  0.8635937571525574,\n",
       "  0.8635937571525574,\n",
       "  0.864062488079071,\n",
       "  0.8648437261581421,\n",
       "  0.8634374737739563,\n",
       "  0.8648437261581421,\n",
       "  0.8648437261581421,\n",
       "  0.8639062643051147,\n",
       "  0.8654687404632568,\n",
       "  0.864062488079071,\n",
       "  0.8631250262260437,\n",
       "  0.8642187714576721,\n",
       "  0.8651562333106995,\n",
       "  0.8645312786102295,\n",
       "  0.8651562333106995,\n",
       "  0.864062488079071,\n",
       "  0.8654687404632568,\n",
       "  0.8648437261581421,\n",
       "  0.8620312213897705,\n",
       "  0.8645312786102295,\n",
       "  0.8643749952316284,\n",
       "  0.8626562356948853,\n",
       "  0.8650000095367432,\n",
       "  0.8643749952316284,\n",
       "  0.864062488079071,\n",
       "  0.8642187714576721,\n",
       "  0.8646875023841858,\n",
       "  0.8643749952316284,\n",
       "  0.8643749952316284,\n",
       "  0.8648437261581421,\n",
       "  0.8643749952316284,\n",
       "  0.8635937571525574,\n",
       "  0.8656250238418579,\n",
       "  0.8639062643051147,\n",
       "  0.8642187714576721,\n",
       "  0.8645312786102295,\n",
       "  0.8653125166893005,\n",
       "  0.8648437261581421,\n",
       "  0.8639062643051147,\n",
       "  0.8656250238418579,\n",
       "  0.8650000095367432,\n",
       "  0.8646875023841858,\n",
       "  0.8656250238418579,\n",
       "  0.8639062643051147,\n",
       "  0.8651562333106995,\n",
       "  0.8656250238418579,\n",
       "  0.8646875023841858,\n",
       "  0.8648437261581421,\n",
       "  0.8643749952316284,\n",
       "  0.8650000095367432,\n",
       "  0.8653125166893005,\n",
       "  0.8650000095367432,\n",
       "  0.8648437261581421,\n",
       "  0.8648437261581421,\n",
       "  0.8643749952316284,\n",
       "  0.8654687404632568,\n",
       "  0.8648437261581421,\n",
       "  0.8631250262260437,\n",
       "  0.8645312786102295],\n",
       " 'loss': [0.5699147582054138,\n",
       "  0.4799613952636719,\n",
       "  0.44956886768341064,\n",
       "  0.4335147440433502,\n",
       "  0.4246060848236084,\n",
       "  0.41820767521858215,\n",
       "  0.4128558337688446,\n",
       "  0.4079405963420868,\n",
       "  0.4030347764492035,\n",
       "  0.39785236120224,\n",
       "  0.3923663794994354,\n",
       "  0.38644665479660034,\n",
       "  0.3809804618358612,\n",
       "  0.3752763271331787,\n",
       "  0.37048882246017456,\n",
       "  0.36613979935646057,\n",
       "  0.3622173070907593,\n",
       "  0.35890474915504456,\n",
       "  0.35661986470222473,\n",
       "  0.3542223870754242,\n",
       "  0.3523314595222473,\n",
       "  0.35053813457489014,\n",
       "  0.3488905429840088,\n",
       "  0.3476874530315399,\n",
       "  0.3465394079685211,\n",
       "  0.3450454771518707,\n",
       "  0.34406134486198425,\n",
       "  0.3434303402900696,\n",
       "  0.34234869480133057,\n",
       "  0.34182411432266235,\n",
       "  0.34067898988723755,\n",
       "  0.33990296721458435,\n",
       "  0.3390049636363983,\n",
       "  0.3389715254306793,\n",
       "  0.33823829889297485,\n",
       "  0.337846577167511,\n",
       "  0.33708086609840393,\n",
       "  0.3367176353931427,\n",
       "  0.33622533082962036,\n",
       "  0.33613884449005127,\n",
       "  0.33551061153411865,\n",
       "  0.3350776731967926,\n",
       "  0.3348133862018585,\n",
       "  0.33402663469314575,\n",
       "  0.33401402831077576,\n",
       "  0.33364033699035645,\n",
       "  0.33355849981307983,\n",
       "  0.3332224190235138,\n",
       "  0.3331039845943451,\n",
       "  0.3325207233428955,\n",
       "  0.33232972025871277,\n",
       "  0.33210718631744385,\n",
       "  0.33168312907218933,\n",
       "  0.33153656125068665,\n",
       "  0.3310739994049072,\n",
       "  0.3310821056365967,\n",
       "  0.33082249760627747,\n",
       "  0.3303884267807007,\n",
       "  0.3309466540813446,\n",
       "  0.3301078677177429,\n",
       "  0.33032017946243286,\n",
       "  0.3298816680908203,\n",
       "  0.3304341435432434,\n",
       "  0.3295106589794159,\n",
       "  0.32946938276290894,\n",
       "  0.32932960987091064,\n",
       "  0.3291890621185303,\n",
       "  0.3291337192058563,\n",
       "  0.328893780708313,\n",
       "  0.3287266492843628,\n",
       "  0.32830342650413513,\n",
       "  0.32844996452331543,\n",
       "  0.32847872376441956,\n",
       "  0.3286344110965729,\n",
       "  0.32807835936546326,\n",
       "  0.3279676139354706,\n",
       "  0.3280107378959656,\n",
       "  0.32750678062438965,\n",
       "  0.3273937702178955,\n",
       "  0.3275572955608368,\n",
       "  0.32729077339172363,\n",
       "  0.32752713561058044,\n",
       "  0.3273671865463257,\n",
       "  0.3268304467201233,\n",
       "  0.32702887058258057,\n",
       "  0.32643142342567444,\n",
       "  0.3265148401260376,\n",
       "  0.3269943594932556,\n",
       "  0.3266700804233551,\n",
       "  0.3262808620929718,\n",
       "  0.3263689875602722,\n",
       "  0.3263687491416931,\n",
       "  0.32608482241630554,\n",
       "  0.3260241746902466,\n",
       "  0.3261893093585968,\n",
       "  0.3258586823940277,\n",
       "  0.32581382989883423,\n",
       "  0.3257756531238556,\n",
       "  0.32581931352615356,\n",
       "  0.3255593478679657],\n",
       " 'val_accuracy': [0.7987499833106995,\n",
       "  0.8006250262260437,\n",
       "  0.8174999952316284,\n",
       "  0.8256250023841858,\n",
       "  0.8287500143051147,\n",
       "  0.8299999833106995,\n",
       "  0.8324999809265137,\n",
       "  0.8349999785423279,\n",
       "  0.8387500047683716,\n",
       "  0.8412500023841858,\n",
       "  0.8443750143051147,\n",
       "  0.8424999713897705,\n",
       "  0.8475000262260437,\n",
       "  0.846875011920929,\n",
       "  0.8525000214576721,\n",
       "  0.8512499928474426,\n",
       "  0.8537499904632568,\n",
       "  0.8537499904632568,\n",
       "  0.8568750023841858,\n",
       "  0.859375,\n",
       "  0.8568750023841858,\n",
       "  0.8581249713897705,\n",
       "  0.859375,\n",
       "  0.8587499856948853,\n",
       "  0.8606250286102295,\n",
       "  0.8606250286102295,\n",
       "  0.859375,\n",
       "  0.8606250286102295,\n",
       "  0.859375,\n",
       "  0.8600000143051147,\n",
       "  0.8600000143051147,\n",
       "  0.859375,\n",
       "  0.8556249737739563,\n",
       "  0.8581249713897705,\n",
       "  0.8587499856948853,\n",
       "  0.8581249713897705,\n",
       "  0.8568750023841858,\n",
       "  0.8568750023841858,\n",
       "  0.8568750023841858,\n",
       "  0.8575000166893005,\n",
       "  0.8587499856948853,\n",
       "  0.8568750023841858,\n",
       "  0.859375,\n",
       "  0.8543750047683716,\n",
       "  0.8568750023841858,\n",
       "  0.8568750023841858,\n",
       "  0.8550000190734863,\n",
       "  0.8543750047683716,\n",
       "  0.8543750047683716,\n",
       "  0.8550000190734863,\n",
       "  0.8556249737739563,\n",
       "  0.8556249737739563,\n",
       "  0.8568750023841858,\n",
       "  0.8568750023841858,\n",
       "  0.8568750023841858,\n",
       "  0.856249988079071,\n",
       "  0.8550000190734863,\n",
       "  0.8543750047683716,\n",
       "  0.8537499904632568,\n",
       "  0.8518750071525574,\n",
       "  0.8550000190734863,\n",
       "  0.8537499904632568,\n",
       "  0.8537499904632568,\n",
       "  0.8543750047683716,\n",
       "  0.8512499928474426,\n",
       "  0.8531249761581421,\n",
       "  0.8543750047683716,\n",
       "  0.8550000190734863,\n",
       "  0.8531249761581421,\n",
       "  0.8556249737739563,\n",
       "  0.8543750047683716,\n",
       "  0.856249988079071,\n",
       "  0.8518750071525574,\n",
       "  0.8531249761581421,\n",
       "  0.8525000214576721,\n",
       "  0.8531249761581421,\n",
       "  0.8537499904632568,\n",
       "  0.8543750047683716,\n",
       "  0.8525000214576721,\n",
       "  0.8525000214576721,\n",
       "  0.8537499904632568,\n",
       "  0.8512499928474426,\n",
       "  0.856249988079071,\n",
       "  0.8525000214576721,\n",
       "  0.8556249737739563,\n",
       "  0.8506249785423279,\n",
       "  0.8556249737739563,\n",
       "  0.8531249761581421,\n",
       "  0.8568750023841858,\n",
       "  0.8525000214576721,\n",
       "  0.8556249737739563,\n",
       "  0.8556249737739563,\n",
       "  0.8537499904632568,\n",
       "  0.8543750047683716,\n",
       "  0.8556249737739563,\n",
       "  0.8550000190734863,\n",
       "  0.8518750071525574,\n",
       "  0.8525000214576721,\n",
       "  0.8543750047683716,\n",
       "  0.8543750047683716],\n",
       " 'val_loss': [0.49390509724617004,\n",
       "  0.4496646821498871,\n",
       "  0.42863816022872925,\n",
       "  0.4174560606479645,\n",
       "  0.40994754433631897,\n",
       "  0.4050813913345337,\n",
       "  0.4005366861820221,\n",
       "  0.39651763439178467,\n",
       "  0.3923807144165039,\n",
       "  0.38852134346961975,\n",
       "  0.3835678994655609,\n",
       "  0.37934771180152893,\n",
       "  0.37420427799224854,\n",
       "  0.3704526424407959,\n",
       "  0.3660764992237091,\n",
       "  0.363316148519516,\n",
       "  0.36085399985313416,\n",
       "  0.35819587111473083,\n",
       "  0.35638678073883057,\n",
       "  0.3546479046344757,\n",
       "  0.35349732637405396,\n",
       "  0.3526231050491333,\n",
       "  0.35153496265411377,\n",
       "  0.35094478726387024,\n",
       "  0.3492165505886078,\n",
       "  0.35018664598464966,\n",
       "  0.34899285435676575,\n",
       "  0.34784966707229614,\n",
       "  0.3485203981399536,\n",
       "  0.3467395305633545,\n",
       "  0.34646767377853394,\n",
       "  0.3454502820968628,\n",
       "  0.3451828360557556,\n",
       "  0.3447093963623047,\n",
       "  0.3450217545032501,\n",
       "  0.34442898631095886,\n",
       "  0.3437955379486084,\n",
       "  0.34377917647361755,\n",
       "  0.34377291798591614,\n",
       "  0.34239181876182556,\n",
       "  0.342620849609375,\n",
       "  0.3437153100967407,\n",
       "  0.342809796333313,\n",
       "  0.3425087630748749,\n",
       "  0.3424406945705414,\n",
       "  0.3426990211009979,\n",
       "  0.3426530957221985,\n",
       "  0.3414269983768463,\n",
       "  0.3418591320514679,\n",
       "  0.341727077960968,\n",
       "  0.3412138819694519,\n",
       "  0.3409894108772278,\n",
       "  0.3409894108772278,\n",
       "  0.3412211537361145,\n",
       "  0.34103748202323914,\n",
       "  0.3404042720794678,\n",
       "  0.34042537212371826,\n",
       "  0.33918625116348267,\n",
       "  0.3391501307487488,\n",
       "  0.34034112095832825,\n",
       "  0.3392992913722992,\n",
       "  0.3394865095615387,\n",
       "  0.3395993113517761,\n",
       "  0.3399510681629181,\n",
       "  0.33936282992362976,\n",
       "  0.3394511044025421,\n",
       "  0.3390125036239624,\n",
       "  0.3388426601886749,\n",
       "  0.33969780802726746,\n",
       "  0.3392646312713623,\n",
       "  0.33945927023887634,\n",
       "  0.33872440457344055,\n",
       "  0.33942726254463196,\n",
       "  0.338982492685318,\n",
       "  0.3392210900783539,\n",
       "  0.3394078314304352,\n",
       "  0.3389618694782257,\n",
       "  0.33895421028137207,\n",
       "  0.3395076096057892,\n",
       "  0.3396126627922058,\n",
       "  0.33990800380706787,\n",
       "  0.3389998972415924,\n",
       "  0.33843499422073364,\n",
       "  0.3392016887664795,\n",
       "  0.3407401144504547,\n",
       "  0.3393978178501129,\n",
       "  0.3395150303840637,\n",
       "  0.3404921591281891,\n",
       "  0.3398912847042084,\n",
       "  0.3392585515975952,\n",
       "  0.33972224593162537,\n",
       "  0.3402341902256012,\n",
       "  0.33945298194885254,\n",
       "  0.3398354649543762,\n",
       "  0.3397962152957916,\n",
       "  0.33966416120529175,\n",
       "  0.3394405245780945,\n",
       "  0.339018851518631,\n",
       "  0.3396955728530884,\n",
       "  0.3391605019569397]}"
      ]
     },
     "execution_count": 29,
     "metadata": {},
     "output_type": "execute_result"
    }
   ],
   "source": [
    "history.history\n"
   ]
  },
  {
   "cell_type": "code",
   "execution_count": 30,
   "id": "94e82b23",
   "metadata": {
    "execution": {
     "iopub.execute_input": "2025-07-04T06:58:23.135783Z",
     "iopub.status.busy": "2025-07-04T06:58:23.134721Z",
     "iopub.status.idle": "2025-07-04T06:58:23.140134Z",
     "shell.execute_reply": "2025-07-04T06:58:23.139059Z"
    },
    "papermill": {
     "duration": 0.070873,
     "end_time": "2025-07-04T06:58:23.142040",
     "exception": false,
     "start_time": "2025-07-04T06:58:23.071167",
     "status": "completed"
    },
    "tags": []
   },
   "outputs": [],
   "source": [
    "import matplotlib.pyplot as plt\n"
   ]
  },
  {
   "cell_type": "code",
   "execution_count": 31,
   "id": "e97be22e",
   "metadata": {
    "execution": {
     "iopub.execute_input": "2025-07-04T06:58:23.273846Z",
     "iopub.status.busy": "2025-07-04T06:58:23.273520Z",
     "iopub.status.idle": "2025-07-04T06:58:23.540584Z",
     "shell.execute_reply": "2025-07-04T06:58:23.539611Z"
    },
    "papermill": {
     "duration": 0.330237,
     "end_time": "2025-07-04T06:58:23.542457",
     "exception": false,
     "start_time": "2025-07-04T06:58:23.212220",
     "status": "completed"
    },
    "tags": []
   },
   "outputs": [
    {
     "data": {
      "text/plain": [
       "[<matplotlib.lines.Line2D at 0x78485858fdd0>]"
      ]
     },
     "execution_count": 31,
     "metadata": {},
     "output_type": "execute_result"
    },
    {
     "data": {
      "image/png": "[encoded data removed]",
      "text/plain": [
       "<Figure size 640x480 with 1 Axes>"
      ]
     },
     "metadata": {},
     "output_type": "display_data"
    }
   ],
   "source": [
    "plt.plot(history.history['loss'])\n",
    "plt.plot(history.history['val_loss'])\n",
    "\n"
   ]
  },
  {
   "cell_type": "code",
   "execution_count": 32,
   "id": "18a881b0",
   "metadata": {
    "execution": {
     "iopub.execute_input": "2025-07-04T06:58:23.662745Z",
     "iopub.status.busy": "2025-07-04T06:58:23.662417Z",
     "iopub.status.idle": "2025-07-04T06:58:23.832320Z",
     "shell.execute_reply": "2025-07-04T06:58:23.831298Z"
    },
    "papermill": {
     "duration": 0.231338,
     "end_time": "2025-07-04T06:58:23.834202",
     "exception": false,
     "start_time": "2025-07-04T06:58:23.602864",
     "status": "completed"
    },
    "tags": []
   },
   "outputs": [
    {
     "data": {
      "text/plain": [
       "[<matplotlib.lines.Line2D at 0x7848cf995f50>]"
      ]
     },
     "execution_count": 32,
     "metadata": {},
     "output_type": "execute_result"
    },
    {
     "data": {
      "image/png": "[encoded data removed]",
      "text/plain": [
       "<Figure size 640x480 with 1 Axes>"
      ]
     },
     "metadata": {},
     "output_type": "display_data"
    }
   ],
   "source": [
    "plt.plot(history.history['accuracy'])\n",
    "plt.plot(history.history['val_accuracy'])"
   ]
  },
  {
   "cell_type": "markdown",
   "id": "be3f55c6",
   "metadata": {
    "papermill": {
     "duration": 0.05813,
     "end_time": "2025-07-04T06:58:23.951665",
     "exception": false,
     "start_time": "2025-07-04T06:58:23.893535",
     "status": "completed"
    },
    "tags": []
   },
   "source": [
    "**so done the predictions :)**"
   ]
  }
 ],
 "metadata": {
  "kaggle": {
   "accelerator": "none",
   "dataSources": [
    {
     "datasetId": 869651,
     "sourceId": 1481789,
     "sourceType": "datasetVersion"
    }
   ],
   "dockerImageVersionId": 31040,
   "isGpuEnabled": false,
   "isInternetEnabled": false,
   "language": "python",
   "sourceType": "notebook"
  },
  "kernelspec": {
   "display_name": "Python 3",
   "language": "python",
   "name": "python3"
  },
  "language_info": {
   "codemirror_mode": {
    "name": "ipython",
    "version": 3
   },
   "file_extension": ".py",
   "mimetype": "text/x-python",
   "name": "python",
   "nbconvert_exporter": "python",
   "pygments_lexer": "ipython3",
   "version": "3.11.11"
  },
  "papermill": {
   "default_parameters": {},
   "duration": 93.155145,
   "end_time": "2025-07-04T06:58:27.499223",
   "environment_variables": {},
   "exception": null,
   "input_path": "__notebook__.ipynb",
   "output_path": "__notebook__.ipynb",
   "parameters": {},
   "start_time": "2025-07-04T06:56:54.344078",
   "version": "2.6.0"
  }
 },
 "nbformat": 4,
 "nbformat_minor": 5
}
